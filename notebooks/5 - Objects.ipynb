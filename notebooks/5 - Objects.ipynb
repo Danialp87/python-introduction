{
 "cells": [
  {
   "cell_type": "markdown",
   "metadata": {},
   "source": [
    "# Objects"
   ]
  },
  {
   "cell_type": "markdown",
   "metadata": {},
   "source": [
    "ToDo:write"
   ]
  },
  {
   "cell_type": "code",
   "execution_count": null,
   "metadata": {
    "collapsed": true
   },
   "outputs": [],
   "source": []
  },
  {
   "cell_type": "markdown",
   "metadata": {},
   "source": [
    "## Exercises\n",
    "\n",
    "Create a class called element for storing the following data\n",
    "* name\n",
    "* symbol\n",
    "* atomic number\n",
    "* atomic weight\n",
    "\n",
    "You can use the following as example data.\n",
    "\n",
    "| Element  | symbol | atomic number | atomic weight |\n",
    "|----------|--------|---------------|---------------|\n",
    "| Hydrogen | H      | 1             | 1.01          |\n",
    "| Iron     | Fe     | 26            | 55.85         |\n",
    "| Silver   | Ag     | 47            | 107.87        |"
   ]
  },
  {
   "cell_type": "code",
   "execution_count": null,
   "metadata": {
    "collapsed": true
   },
   "outputs": [],
   "source": []
  },
  {
   "cell_type": "markdown",
   "metadata": {},
   "source": [
    "Now create a new class that the Element class, a SortableElement. It should implement the \\_\\_lt\\_\\_ magic function described [here](https://docs.python.org/3.5/reference/datamodel.html#object.__lt__).\n"
   ]
  },
  {
   "cell_type": "code",
   "execution_count": null,
   "metadata": {
    "collapsed": true
   },
   "outputs": [],
   "source": []
  },
  {
   "cell_type": "markdown",
   "metadata": {},
   "source": [
    "Make a list of elements and sort it using ``list.sort()`` to try out your list."
   ]
  },
  {
   "cell_type": "code",
   "execution_count": null,
   "metadata": {
    "collapsed": true
   },
   "outputs": [],
   "source": []
  }
 ],
 "metadata": {
  "kernelspec": {
   "display_name": "Python 3",
   "language": "python",
   "name": "python3"
  },
  "language_info": {
   "codemirror_mode": {
    "name": "ipython",
    "version": 3
   },
   "file_extension": ".py",
   "mimetype": "text/x-python",
   "name": "python",
   "nbconvert_exporter": "python",
   "pygments_lexer": "ipython3",
   "version": "3.5.2"
  }
 },
 "nbformat": 4,
 "nbformat_minor": 2
}
