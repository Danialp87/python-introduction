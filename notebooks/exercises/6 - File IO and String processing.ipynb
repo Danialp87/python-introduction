{
 "cells": [
  {
   "cell_type": "markdown",
   "metadata": {},
   "source": [
    "# Exercises"
   ]
  },
  {
   "cell_type": "markdown",
   "metadata": {
    "collapsed": true
   },
   "source": [
    "The file \"../data/coordinates.txt\" contains list of (x, y) value pairs.\n",
    "Read the values into two lists x and y."
   ]
  },
  {
   "cell_type": "code",
   "execution_count": null,
   "metadata": {
    "collapsed": true
   },
   "outputs": [],
   "source": []
  },
  {
   "cell_type": "markdown",
   "metadata": {},
   "source": [
    "The file \"../data/CH4.pdb\" contains the coordinates of methane molecule in a PDB format. The file consists of header followed by record lines which contain the following fields:\n",
    "\n",
    "record name(=ATOM), atom serial number, atom name, x-,y-,z-coordinates, occupancy and temperature factor.\n",
    "\n",
    "i.e.\n",
    "```\n",
    "ATOM      2 H                   -0.627  -0.627   0.627  0.00  0.00\n",
    "```\n",
    "\n",
    "Convert the file into XYZ format: first line contains the\n",
    "number of atoms, second line is title string, and the\n",
    "following lines contain the atomic symbols and x-, y-, z-\n",
    "coordinates, all separated by white space. Write the\n",
    "coordinates with 6 decimals:\n",
    "\n",
    "```\n",
    "5\n",
    "Converted from PDB\n",
    "C    0.000000   0.000000   0.000000\n",
    "...\n",
    "```"
   ]
  },
  {
   "cell_type": "code",
   "execution_count": null,
   "metadata": {
    "collapsed": true
   },
   "outputs": [],
   "source": []
  },
  {
   "cell_type": "markdown",
   "metadata": {},
   "source": [
    "Fasta is a fileformat for storing nucleotide sequences. The sequences consist of header line, starting with **>**, followed by one or more lines containing the amino acids of the sequence presented by single-letter codes:\n",
    "```\n",
    ">5IRE:A|PDBID|CHAIN|SEQUENCE\n",
    "IRCIGVSNRDFVEGMSGGTWVDVVLEHGGCVTVMAQDKPTVDIELVTTTVSNMAEVRSYCYEASISDMASDSRCPTQGEA\n",
    "YLDKQSDTQYVCKRTLVDRGWGNGCGLFGKGSLVTCAKFACSKKMTGKSIQPENLEYRIMLSVHGSQHSGMIVNDTGHET\n",
    "...\n",
    "```\n",
    "The file \"../data/5ire.fasta\" contains sequences for multiple chains of Zika virus. Read from the file the sequence of chain C (the chain ids are given in the header, i.e. the chain above is A).\n",
    "\n",
    "Find out which chains contain the subsequence **LDFSDL**.\n",
    "\n",
    "Hint: as the sequence is given in multiple lines, you should combine all the lines of a sequence into a single string. String object's **.strip()** method which removes newlines from the end of string is useful here."
   ]
  },
  {
   "cell_type": "code",
   "execution_count": null,
   "metadata": {
    "collapsed": true
   },
   "outputs": [],
   "source": []
  },
  {
   "cell_type": "markdown",
   "metadata": {},
   "source": [
    "# Bonus exercises"
   ]
  },
  {
   "cell_type": "markdown",
   "metadata": {},
   "source": [
    "The file \"../data/word_count.txt\" contains a short piece of text. Determine the frequency of words in the file, i.e. how many times each word appears. Print out the ten most frequent words.\n",
    "\n",
    "Read the file line by line and use the split() function for separating a line into words.\n",
    "The frequencies are stored most conveniently into a dictionary. The dictionary method **setdefault** can be useful\n",
    "here. \n",
    "\n",
    "For sorting, convert the dictionary into a list of (key, value) pairs with the items() function:\n",
    "```\n",
    "words = {\"foo\" : 1, \"bar\" : 2}\n",
    "print(words.items())\n",
    "[('foo', 1), ('bar', 2)]\n",
    "```"
   ]
  },
  {
   "cell_type": "code",
   "execution_count": null,
   "metadata": {
    "collapsed": true
   },
   "outputs": [],
   "source": []
  }
 ],
 "metadata": {
  "kernelspec": {
   "display_name": "Python 3",
   "language": "python",
   "name": "python3"
  },
  "language_info": {
   "codemirror_mode": {
    "name": "ipython",
    "version": 3
   },
   "file_extension": ".py",
   "mimetype": "text/x-python",
   "name": "python",
   "nbconvert_exporter": "python",
   "pygments_lexer": "ipython3",
   "version": "3.4.5"
  }
 },
 "nbformat": 4,
 "nbformat_minor": 2
}
