{
 "cells": [
  {
   "cell_type": "markdown",
   "metadata": {},
   "source": [
    "# Modules and pip and PyPI"
   ]
  },
  {
   "cell_type": "markdown",
   "metadata": {},
   "source": [
    "## import\n",
    "Let's start by using a module. \n",
    "\n",
    "There is a module called `sample_module` in the same directory as this notebook. Inside it there is a function called `sample_function`.\n",
    "\n",
    "Import the function and call it to see what happens. Can you do the import in two different ways?"
   ]
  },
  {
   "cell_type": "code",
   "execution_count": null,
   "metadata": {
    "collapsed": false
   },
   "outputs": [],
   "source": []
  },
  {
   "cell_type": "markdown",
   "metadata": {},
   "source": [
    "## import as\n",
    "\n",
    "It is possible to rename the function you are importing by using the syntax\n",
    "\n",
    "```from module import function_name as another_function_name\n",
    "```\n",
    "\n",
    "Go ahead and import `sample_function` using a more descriptive name and call it."
   ]
  },
  {
   "cell_type": "code",
   "execution_count": null,
   "metadata": {
    "collapsed": true
   },
   "outputs": [],
   "source": []
  },
  {
   "cell_type": "markdown",
   "metadata": {},
   "source": [
    "## Creating a module\n",
    "\n",
    "Now create a module called mymodule (i.e. mymodule.py) using the text editor functionality of Jupyter Notebooks.\n",
    "\n",
    "Add the following code to the module.\n",
    "\n",
    "```\n",
    "def add(a, b):\n",
    "    return a + b\n",
    "```\n",
    "\n",
    "Save the file and in the space below import the module from your newly created module.\n",
    "\n",
    "If you want you can also use a more inventive name than mymodule.py."
   ]
  },
  {
   "cell_type": "code",
   "execution_count": null,
   "metadata": {
    "collapsed": true
   },
   "outputs": [],
   "source": []
  },
  {
   "cell_type": "markdown",
   "metadata": {},
   "source": [
    "## Using pip\n",
    "\n",
    "Open a terminal in Jupyter Notebooks.\n",
    "\n",
    "For the sake of the example we wish to install the package [fzzbzz](https://pypi.python.org/pypi/fzzbzz/1.1) that implements an earlier exercise. A valuable lesson here is that in the Python ecosystem someone probably already solved your problem.\n",
    "\n",
    "Install the package using the following command \n",
    "\n",
    "```pip install --user fzzbzz```\n",
    "\n",
    "Then try to run the following."
   ]
  },
  {
   "cell_type": "code",
   "execution_count": null,
   "metadata": {
    "collapsed": false
   },
   "outputs": [],
   "source": [
    "import fzzbzz\n",
    "fzzbzz(100)"
   ]
  },
  {
   "cell_type": "markdown",
   "metadata": {},
   "source": [
    "It failed with an error, right? This is due to how Jupyter Notebooks works. You need to select *`Kernel->Restart`* from the top menu for it to work."
   ]
  },
  {
   "cell_type": "markdown",
   "metadata": {},
   "source": [
    "Now install the [Python Natural Language Toolkit](http://www.nltk.org/) using pip and verify that your installation is correct by stemming the the following example sentence."
   ]
  },
  {
   "cell_type": "code",
   "execution_count": null,
   "metadata": {
    "collapsed": false
   },
   "outputs": [],
   "source": [
    "from nltk.stem.snowball import FinnishStemmer\n",
    "stemmer = FinnishStemmer()\n",
    "sentence = (\"Kaikki ihmiset syntyvät vapaina ja tasavertaisina arvoltaan ja\"\n",
    "            \"oikeuksiltaan. Heille on annettu järki ja omatunto, ja heidän \"\n",
    "            \"on toimittava toisiaan kohtaan veljeyden hengessä.\")\n",
    "[stemmer.stem(x) for x in sentence.split()]"
   ]
  },
  {
   "cell_type": "markdown",
   "metadata": {},
   "source": [
    "## Extra: Creating a larger module\n",
    "\n",
    "Make the following directory structure next to this notebook:\n",
    "    \n",
    "    | this_notebook.ipynb\n",
    "    |-> personal_maths\n",
    "        | __init__.py\n",
    "        | addition.py\n",
    "        | subtraction.py\n",
    "        \n",
    "Add the following code to addition.py\n",
    "\n",
    "```def add(a, b):\n",
    "    return a + b\n",
    "```\n",
    "\n",
    "and the following to subtraction.py\n",
    "\n",
    "```def subtract(a, b):\n",
    "    return a-b\n",
    "```\n",
    "\n",
    "To touch things off, add the following to __init__.py\n",
    "```\n",
    "from addition import add\n",
    "```\n",
    "\n"
   ]
  },
  {
   "cell_type": "markdown",
   "metadata": {},
   "source": [
    "Now go ahead and try the following"
   ]
  },
  {
   "cell_type": "code",
   "execution_count": null,
   "metadata": {
    "collapsed": false
   },
   "outputs": [],
   "source": [
    "from personal_math import *\n",
    "import personal_math\n"
   ]
  },
  {
   "cell_type": "markdown",
   "metadata": {},
   "source": [
    "Which functions are defined? You can use the `dir()` function to find what names are defined. \n",
    "\n",
    "Can you access both functions using `personal_math.addition.add` and `personal_math.addition.subtract`?"
   ]
  },
  {
   "cell_type": "code",
   "execution_count": null,
   "metadata": {
    "collapsed": false
   },
   "outputs": [],
   "source": []
  },
  {
   "cell_type": "markdown",
   "metadata": {},
   "source": [
    "## Extra: using an actually useful module\n",
    "\n",
    "The environment already has the [requests](http://docs.python-requests.org/en/master/) \n",
    "package installed. Read up on the excellent documentation and take it for a spin if you have time.\n",
    "\n",
    "Downloading a lot of stuff from the internet used to be bothersome, but `requests` makes it almost fun."
   ]
  },
  {
   "cell_type": "code",
   "execution_count": null,
   "metadata": {
    "collapsed": true
   },
   "outputs": [],
   "source": [
    "import requests\n",
    "# the world is your oyster"
   ]
  }
 ],
 "metadata": {
  "kernelspec": {
   "display_name": "Python 3",
   "language": "python",
   "name": "python3"
  },
  "language_info": {
   "codemirror_mode": {
    "name": "ipython",
    "version": 3
   },
   "file_extension": ".py",
   "mimetype": "text/x-python",
   "name": "python",
   "nbconvert_exporter": "python",
   "pygments_lexer": "ipython3",
   "version": "3.5.2"
  }
 },
 "nbformat": 4,
 "nbformat_minor": 2
}
