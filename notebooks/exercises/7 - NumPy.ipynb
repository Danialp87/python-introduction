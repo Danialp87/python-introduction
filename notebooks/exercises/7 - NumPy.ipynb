{
 "cells": [
  {
   "cell_type": "markdown",
   "metadata": {
    "collapsed": true
   },
   "source": [
    "# Exercises"
   ]
  },
  {
   "cell_type": "markdown",
   "metadata": {},
   "source": [
    "## Simple array manipulation\n",
    "\n",
    "Investigate the behavior of the statements below by looking\n",
    "at the values of the arrays a and b after assignments:\n",
    "```\n",
    "a = np.arange(5)\n",
    "b = a\n",
    "b[2] = -1\n",
    "b = a[:]\n",
    "b[1] = -1\n",
    "b = a.copy()\n",
    "b[0] = -1\n",
    "```"
   ]
  },
  {
   "cell_type": "code",
   "execution_count": null,
   "metadata": {
    "collapsed": true
   },
   "outputs": [],
   "source": []
  },
  {
   "cell_type": "markdown",
   "metadata": {},
   "source": [
    "Generate a 1D NumPy array containing numbers from -2 to 2\n",
    "in increments of 0.2. Use optional start and step arguments\n",
    "of **np.arange()** function."
   ]
  },
  {
   "cell_type": "code",
   "execution_count": null,
   "metadata": {
    "collapsed": true
   },
   "outputs": [],
   "source": []
  },
  {
   "cell_type": "markdown",
   "metadata": {},
   "source": [
    "Generate another 1D NumPy array containing 11 equally\n",
    "spaced values between 0.5 and 1.5. Extract every second\n",
    "element of the array"
   ]
  },
  {
   "cell_type": "code",
   "execution_count": null,
   "metadata": {
    "collapsed": true
   },
   "outputs": [],
   "source": []
  },
  {
   "cell_type": "markdown",
   "metadata": {},
   "source": [
    "Create a 4x4 array with arbitrary values."
   ]
  },
  {
   "cell_type": "code",
   "execution_count": null,
   "metadata": {
    "collapsed": true
   },
   "outputs": [],
   "source": []
  },
  {
   "cell_type": "markdown",
   "metadata": {},
   "source": [
    "Extract every element from the second row"
   ]
  },
  {
   "cell_type": "code",
   "execution_count": null,
   "metadata": {
    "collapsed": true
   },
   "outputs": [],
   "source": []
  },
  {
   "cell_type": "markdown",
   "metadata": {},
   "source": [
    "Extract every element from the third column"
   ]
  },
  {
   "cell_type": "code",
   "execution_count": null,
   "metadata": {
    "collapsed": true
   },
   "outputs": [],
   "source": []
  },
  {
   "cell_type": "markdown",
   "metadata": {},
   "source": [
    "Assign a value of 0.21 to upper left 2x2 subarray."
   ]
  },
  {
   "cell_type": "code",
   "execution_count": null,
   "metadata": {
    "collapsed": true
   },
   "outputs": [],
   "source": []
  },
  {
   "cell_type": "markdown",
   "metadata": {},
   "source": [
    "## Simple plotting\n",
    "\n",
    "Plot to the same graph **sin** and **cos** functions in the interval $[-\\pi/2, \\pi/2]$. Use $\\theta$ as x-label and insert also legends."
   ]
  },
  {
   "cell_type": "code",
   "execution_count": null,
   "metadata": {
    "collapsed": true
   },
   "outputs": [],
   "source": []
  },
  {
   "cell_type": "markdown",
   "metadata": {},
   "source": [
    "## Pie chart\n",
    "\n",
    "The file \"../data/csc_usage.txt\" contains the usage of CSC servers by different disciplines. Plot a pie chart about the resource usage."
   ]
  },
  {
   "cell_type": "code",
   "execution_count": null,
   "metadata": {
    "collapsed": true
   },
   "outputs": [],
   "source": []
  },
  {
   "cell_type": "markdown",
   "metadata": {},
   "source": [
    "## Bonus exercises\n",
    "\n",
    "### Numerical derivative with finite differences\n",
    "\n",
    "Derivatives can be calculated numerically with the finite-difference method\n",
    "as: \n",
    "\n",
    "$$ f'(x_i) = \\frac{f(x_i + \\Delta x)- f(x_i - \\Delta x)}{2 \\Delta x} $$\n",
    "\n",
    "Construct 1D Numpy array containing the values of xi in the interval $[0, \\pi/2]$ with spacing\n",
    "$\\Delta x = 0.1$. Evaluate numerically the derivative of **sin** in this\n",
    "interval (excluding the end points) using the above formula. Try to avoid\n",
    "`for` loops. Compare the result to function **cos** in the same interval."
   ]
  },
  {
   "cell_type": "code",
   "execution_count": null,
   "metadata": {
    "collapsed": true
   },
   "outputs": [],
   "source": []
  },
  {
   "cell_type": "markdown",
   "metadata": {},
   "source": [
    "### Game of Life\n",
    "\n",
    "Game of life is a cellular automaton devised by John Conway\n",
    "in 70's: http://en.wikipedia.org/wiki/Conway's_Game_of_Life\n",
    "\n",
    "The game consists of two dimensional orthogonal grid of\n",
    "cells. Cells are in two possible states, alive or dead. Each cell\n",
    "interacts with its eight neighbours, and at each time step the\n",
    "following transitions occur:\n",
    "* Any live cell with fewer than two live neighbours dies, as if\n",
    "caused by underpopulation\n",
    "* Any live cell with more than three live neighbours dies, as if\n",
    "by overcrowding\n",
    "* Any live cell with two or three live neighbours lives on to\n",
    "the next generation\n",
    "* Any dead cell with exactly three live neighbours becomes a\n",
    "live cell\n",
    "\n",
    "The initial pattern constitutes the seed of the system, and\n",
    "the system is left to evolve according to rules. Deads and\n",
    "births happen simultaneously.\n",
    "\n",
    "Implement the Game of Life using Numpy, and visualize the\n",
    "evolution with Matplotlib's **imshow**. Try first 32x32\n",
    "square grid and cross-shaped initial pattern:\n",
    "![Initial pattern for Game of Life](../images/gol.png)\n",
    "Try also other grids and initial patterns (e.g. random\n",
    "pattern). Try to avoid **for** loops."
   ]
  },
  {
   "cell_type": "code",
   "execution_count": null,
   "metadata": {
    "collapsed": true
   },
   "outputs": [],
   "source": []
  }
 ],
 "metadata": {
  "kernelspec": {
   "display_name": "Python 3",
   "language": "python",
   "name": "python3"
  },
  "language_info": {
   "codemirror_mode": {
    "name": "ipython",
    "version": 3
   },
   "file_extension": ".py",
   "mimetype": "text/x-python",
   "name": "python",
   "nbconvert_exporter": "python",
   "pygments_lexer": "ipython3",
   "version": "3.4.9"
  }
 },
 "nbformat": 4,
 "nbformat_minor": 2
}
