{
 "cells": [
  {
   "cell_type": "markdown",
   "metadata": {},
   "source": [
    "# Control Structures"
   ]
  },
  {
   "cell_type": "markdown",
   "metadata": {},
   "source": [
    "## Loop and conditional\n",
    "\n",
    "Write code that loops through the following list and prints out each item if it is odd.\n",
    "\n",
    "**Hint:** you can test if a number is odd by using it's modulo with 2.\n",
    "\n",
    "A number is odd if \n",
    "\n",
    "```number % 2 == 1```\n",
    "\n",
    "and even if\n",
    "\n",
    "```number % 2 == 0```\n",
    "\n"
   ]
  },
  {
   "cell_type": "code",
   "execution_count": 1,
   "metadata": {
    "collapsed": true
   },
   "outputs": [],
   "source": [
    "list_example = [2, 3, 4] + [20]* 6 + [5] * 5"
   ]
  },
  {
   "cell_type": "code",
   "execution_count": null,
   "metadata": {
    "collapsed": true
   },
   "outputs": [],
   "source": [
    "# your code here"
   ]
  },
  {
   "cell_type": "markdown",
   "metadata": {},
   "source": [
    "## Looping through a dictionary\n",
    "Write code that prints each of the cheeses and it's availability in the following dictionary"
   ]
  },
  {
   "cell_type": "code",
   "execution_count": null,
   "metadata": {
    "collapsed": true
   },
   "outputs": [],
   "source": [
    "cheeses = { \"Stilton\": \"Sorry\",\n",
    "            \"Emmental\" :\"No\",\n",
    "            \"Danish Blue\": \"No\",\n",
    "            \"Venezuelan Beaver Cheese\": \"Not today sir, no.\",\n",
    "           \"Greek Feta\": \"Ah, not as such\"\n",
    "          }"
   ]
  },
  {
   "cell_type": "code",
   "execution_count": null,
   "metadata": {
    "collapsed": true
   },
   "outputs": [],
   "source": [
    "# your code here"
   ]
  },
  {
   "cell_type": "markdown",
   "metadata": {},
   "source": [
    "## While loop\n",
    "\n",
    "Fibonacci numbers are a sequence of integers defined by the recurrence relation\n",
    "```\n",
    "\t\tF[n] = F[n-1] + F[n-2]\n",
    "```\n",
    "with the initial values F[0]=0, F[1]=1. \n",
    "Create a list of Fibonacci numbers F[n] < 100 using a while loop."
   ]
  },
  {
   "cell_type": "code",
   "execution_count": null,
   "metadata": {
    "collapsed": true
   },
   "outputs": [],
   "source": []
  },
  {
   "cell_type": "markdown",
   "metadata": {},
   "source": [
    "# Advanced exercises\n",
    "\n",
    "Don't worry if you don't have time to finish all of these. They are not essential."
   ]
  },
  {
   "cell_type": "markdown",
   "metadata": {},
   "source": [
    "## FizzBuzz\n",
    "\n",
    "This is a classic job interview question. Depending on the interviewer or interviewee it can filter out up to 95% of the interviewees for a position. The task is not difficult but it's easy to make simple mistakes.\n",
    "\n",
    "If a number is divisible by 3, instead of the number print \"Fizz\", if a number is divisible by 5, print \"Buzz\" and if the number is divisible by both 3 and 5, print \"FizzBuzz\". "
   ]
  },
  {
   "cell_type": "code",
   "execution_count": 2,
   "metadata": {
    "collapsed": true
   },
   "outputs": [],
   "source": [
    "numbers = range(1, 101)"
   ]
  },
  {
   "cell_type": "markdown",
   "metadata": {},
   "source": [
    "*Food for thought:* How do people commonly fail this test and why?"
   ]
  },
  {
   "cell_type": "code",
   "execution_count": null,
   "metadata": {
    "collapsed": true
   },
   "outputs": [],
   "source": []
  },
  {
   "cell_type": "markdown",
   "metadata": {},
   "source": [
    "## Breaking\n",
    "\n",
    "The python `random` module generates pseudorandom numbers.\n",
    "\n",
    "Write a *while* loop that runs until \n",
    "the output of random.random() is below 0.1 and `break` when \n",
    "the value is below 0.1."
   ]
  },
  {
   "cell_type": "code",
   "execution_count": 5,
   "metadata": {},
   "outputs": [
    {
     "data": {
      "text/plain": [
       "0.3504138821505054"
      ]
     },
     "execution_count": 5,
     "metadata": {},
     "output_type": "execute_result"
    }
   ],
   "source": [
    "import random\n",
    "\n",
    "value = random.random()\n",
    "value"
   ]
  },
  {
   "cell_type": "markdown",
   "metadata": {},
   "source": [
    "## List comprehension\n",
    "\n",
    "Using a list comprehension create a new list, `temperatures_kelvin` from following Celsius temperatures and convert them by adding the value 273.15 to each."
   ]
  },
  {
   "cell_type": "code",
   "execution_count": null,
   "metadata": {
    "collapsed": true
   },
   "outputs": [],
   "source": [
    "temperatures_celsius = [0, -15, 20.15, 13.3, -5.2]"
   ]
  }
 ],
 "metadata": {
  "kernelspec": {
   "display_name": "Python 3",
   "language": "python",
   "name": "python3"
  },
  "language_info": {
   "codemirror_mode": {
    "name": "ipython",
    "version": 3
   },
   "file_extension": ".py",
   "mimetype": "text/x-python",
   "name": "python",
   "nbconvert_exporter": "python",
   "pygments_lexer": "ipython3",
   "version": "3.5.2"
  }
 },
 "nbformat": 4,
 "nbformat_minor": 2
}
