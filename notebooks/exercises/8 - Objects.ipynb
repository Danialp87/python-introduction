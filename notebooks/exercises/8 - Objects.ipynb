{
 "cells": [
  {
   "cell_type": "markdown",
   "metadata": {},
   "source": [
    "# Exercises - Objects"
   ]
  },
  {
   "cell_type": "markdown",
   "metadata": {},
   "source": [
    "## Using an object\n",
    "\n",
    "Below is the definition of an object. Run the cell and create at least two instances of it."
   ]
  },
  {
   "cell_type": "code",
   "execution_count": null,
   "metadata": {
    "collapsed": false
   },
   "outputs": [],
   "source": [
    "class Car(object):\n",
    "    \n",
    "    def __init__(self, make, model, year, mpg=25, tank_capacity=30.0, miles=0):\n",
    "        self.make = make\n",
    "        self.model = model\n",
    "        self.year = year\n",
    "        self.mpg = mpg\n",
    "        self.gallons_in_tank = tank_capacity # cars start with a full tank\n",
    "        self.tank_capacity = tank_capacity\n",
    "        self.miles = miles\n",
    "        \n",
    "    def __str__(self):\n",
    "        return \"{} {} ({}), {} miles and {} gallons in tank\".format(self.make, \n",
    "                                                                    self.model, \n",
    "                                                                    self.year, \n",
    "                                                                    self.miles, \n",
    "                                                                    self.gallons_in_tank)\n",
    "    \n",
    "    def drive(self, new_miles):\n",
    "        \"\"\"Drive the car X miles and return number of miles driven.\n",
    "        If there is not enough fuel, drive 0 miles.\"\"\"\n",
    "        fuel_need = new_miles/self.mpg\n",
    "        if fuel_need <= self.gallons_in_tank:\n",
    "            self.miles = self.miles + new_miles\n",
    "            self.gallons_in_tank = self.gallons_in_tank - fuel_need\n",
    "            return new_miles\n",
    "        else:\n",
    "            return 0\n",
    "            \n",
    "        "
   ]
  },
  {
   "cell_type": "code",
   "execution_count": null,
   "metadata": {
    "collapsed": false
   },
   "outputs": [],
   "source": []
  },
  {
   "cell_type": "markdown",
   "metadata": {},
   "source": [
    "## Simple modification to class\n",
    "\n",
    "OK, our car has a major problem: it can't be filled up.\n",
    "\n",
    "Add a method called `fill_up()` to your class. It is up to you if you want to enable filling by an arbitary number or only back to the full state.\n",
    "\n",
    "If you allow arbitary amounts of liquid remember to consider overfilling the tank.\n",
    "\n",
    "Once you edit your class, the old objects do not automatically adopt to the changes you made. You will need to re-create them."
   ]
  },
  {
   "cell_type": "markdown",
   "metadata": {},
   "source": [
    "## Exceptions"
   ]
  },
  {
   "cell_type": "markdown",
   "metadata": {},
   "source": [
    "Now make a modification to the `drive`-method: if an attempt is made to drive more than the gas will allow, create and raise an exception.\n",
    "\n",
    "Instead of creating your own exception you may use a [ValueError](https://docs.python.org/3/library/exceptions.html#ValueError) for this case, as it is a logical choice.\n",
    "\n",
    "Then add a try-except clause to the following:"
   ]
  },
  {
   "cell_type": "code",
   "execution_count": null,
   "metadata": {
    "collapsed": false
   },
   "outputs": [],
   "source": [
    "suv = Car(\"Ford\", \"Escape\", 2017, mpg=18, tank_capacity=30)\n",
    "suv.drive(600)"
   ]
  }
 ],
 "metadata": {
  "kernelspec": {
   "display_name": "Python 3",
   "language": "python",
   "name": "python3"
  },
  "language_info": {
   "codemirror_mode": {
    "name": "ipython",
    "version": 3
   },
   "file_extension": ".py",
   "mimetype": "text/x-python",
   "name": "python",
   "nbconvert_exporter": "python",
   "pygments_lexer": "ipython3",
   "version": "3.5.2"
  }
 },
 "nbformat": 4,
 "nbformat_minor": 1
}
