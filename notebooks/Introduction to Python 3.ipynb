{
 "cells": [
  {
   "cell_type": "markdown",
   "metadata": {},
   "source": [
    "# Introduction to Python 3\n",
    "\n",
    "Python is a modern programming language that \n",
    "* is open source\n",
    "* is interpreted\n",
    " * interpreters exist for most platforms\n",
    "* is multi-paradigm (incl. object-oriented)\n",
    "* comes with [batteries included](https://www.python.org/dev/peps/pep-0206/#batteries-included-philosophy) whenever possible\n",
    "\n",
    "### Versions\n",
    "\n",
    "Version 2 of the Python language (2.7 is the current minor version) is what made Python popular. However it was far from perfect, and version 3 of Python fixes many of the most glaring design flaws in Python 2.\n",
    "\n",
    "Because version 2 gained popularity rapidly, it has taken over 10 years for version 3 to gain foothold. This is the first time CSC gives introduction to Python course using Python 3.\n",
    "\n",
    "### Three levels of Python\n",
    "\n",
    "There are 3 levels of functionality you can use in Python\n",
    "* the built-in parts\n",
    " * the language itself that is used to write programs\n",
    "* the [standard library](https://docs.python.org/3/library/)\n",
    " * these cover many common tasks in programming in general, e.g.\n",
    "   * file system and operating system abstraction\n",
    "   * reading standardized file formats (zip, xml, csv, etc.)\n",
    "   * most common data communications protocols (HTTP and email protocols)\n",
    "   * more data types, programming libraries\n",
    "* the Python ecosystem, mostly available via the [Python Package Index PyPI](https://pypi.python.org/pypi)\n",
    "   * tens of thousands of packages of varying quality\n",
    "   * libraries for\n",
    "    * numeric computation (e.g. NumPy)\n",
    "    * machine learning (e.g. scikit-learn)\n",
    "    * HTTP frameworks (e.g. Django)\n",
    "    * natural language analysis (e.g. nltk)\n",
    "    * data visualization\n",
    "    \n",
    "The core or built-in parts of Python is relatively small and we will cover that first.\n",
    "\n",
    "The typical way to write python programs is to write it in script files that end in *.py and that can be run with the ``python`` command. We will get to that later but first we use this Jupyter Notebook to go over the basics of the language."
   ]
  },
  {
   "cell_type": "markdown",
   "metadata": {},
   "source": [
    "### Syntax\n",
    "\n",
    "First a few motivational words from [The Zen of Python](https://www.python.org/dev/peps/pep-0020/)\n",
    "\n",
    "    Beautiful is better than ugly.\n",
    "    Simple is better than complex.\n",
    "    Readability counts.\n",
    "    \n",
    "The design of Python aims for simplicity."
   ]
  },
  {
   "cell_type": "markdown",
   "metadata": {},
   "source": [
    "\n",
    "\n",
    "## First program\n",
    "\n",
    "The first exercise in most programming tutorials is a Hello World -program.\n",
    "\n",
    "You can edit the code in the cell below and run it by clicking on the run-button in the above toolbar or by pressing CTRL+Enter when you have the cell in focus (surrounded by a green box).\n",
    "\n",
    "The text between the quotation marks \"\" is a string. ``print`` is a function and the parameters are inside regular brackets () in a C-kind of style.\n",
    "\n",
    "\n",
    "    \n",
    "\n",
    "\n"
   ]
  },
  {
   "cell_type": "code",
   "execution_count": null,
   "metadata": {
    "collapsed": true
   },
   "outputs": [],
   "source": [
    "print(\"hello world!\")"
   ]
  },
  {
   "cell_type": "markdown",
   "metadata": {},
   "source": [
    "These exercises are run in this notebook environment, but you could just as easily copy the text below to a file called **hello.py** and run it with the command\n",
    "\n",
    "    $ python hello.py\n",
    "    hello world!\n",
    "\n",
    "**Extra**: compare this with a hello world program in some other programming language that you know. Is it simpler or more complex? What kinds of design decisions have to have been made in order for the example to be this simple?"
   ]
  },
  {
   "cell_type": "markdown",
   "metadata": {},
   "source": [
    "## Getting help\n",
    "\n",
    "The built-in function ```help()``` will show you interactive documentation about most Python objects when you're inside an interpreter.\n",
    "\n",
    "If you want to know all the members of an object (more about objects and classes later) you can call the ```dir()``` function."
   ]
  },
  {
   "cell_type": "code",
   "execution_count": 120,
   "metadata": {
    "collapsed": false
   },
   "outputs": [
    {
     "name": "stdout",
     "output_type": "stream",
     "text": [
      "Help on built-in function print in module builtins:\n",
      "\n",
      "print(...)\n",
      "    print(value, ..., sep=' ', end='\\n', file=sys.stdout, flush=False)\n",
      "    \n",
      "    Prints the values to a stream, or to sys.stdout by default.\n",
      "    Optional keyword arguments:\n",
      "    file:  a file-like object (stream); defaults to the current sys.stdout.\n",
      "    sep:   string inserted between values, default a space.\n",
      "    end:   string appended after the last value, default a newline.\n",
      "    flush: whether to forcibly flush the stream.\n",
      "\n"
     ]
    }
   ],
   "source": [
    "help(print)"
   ]
  },
  {
   "cell_type": "markdown",
   "metadata": {},
   "source": [
    "## Variables and data types\n",
    "\n",
    "Variable is something that can change in the execution of a program. It is referenced by a name.\n",
    "\n",
    "In Python variable names\n",
    "* may contain letters, numbers or underscores\n",
    "* start with a a letter or underscore (but not with a number!)\n",
    "* are case sensitive\n",
    "\n",
    "Underscores in the beginning or end of a variable are part of idiomatic coding style that hints things to the reader of the code. We will get to that in the future.\n",
    "\n",
    "Try them out below:"
   ]
  },
  {
   "cell_type": "code",
   "execution_count": 31,
   "metadata": {
    "collapsed": false
   },
   "outputs": [
    {
     "data": {
      "text/plain": [
       "5"
      ]
     },
     "execution_count": 31,
     "metadata": {},
     "output_type": "execute_result"
    }
   ],
   "source": [
    "hello_example_1 = \"hello world!\" # comments are marked with the #-sign\n",
    "hello_example_1 = 5\n",
    "hello_example_1 # in Jupyter notebooks if the cell ends with a single variable, the system will print the value for you"
   ]
  },
  {
   "cell_type": "markdown",
   "metadata": {},
   "source": [
    "Python is a [dynamically typed](https://en.wikipedia.org/wiki/Type_system#Dynamic_type_checking_and_runtime_type_information), [strongly typed](https://en.wikipedia.org/wiki/Strong_and_weak_typing) language. It's OK not to understand the terms completely. They are simply mentioned because they carry very specific meaning to experienced programmers.\n",
    "\n",
    "In practice this means that:\n",
    "\n",
    "* variables (and their types) don't need to be declared\n",
    "* trying to use a variable of an incorrect type will result in errors\n"
   ]
  },
  {
   "cell_type": "markdown",
   "metadata": {},
   "source": [
    "### Data types\n",
    "\n",
    "Python has a small set of basic data types, that are grouped into groups that we will introduce. All variables in python have a type and you can use the built-in method ``type()`` to check the type of a variable.\n",
    "\n",
    "* ``boolean``: is a data type that can be either True or False (note capitalization of first letter)\n",
    "\n",
    "* Numeric types, that represent numbers\n",
    " * ``int``: integers, not limited in length\n",
    " * ``float``: floating point numbers, like doubles in C, with similar caveats\n",
    " * ``complex``: complex numbers, represented by j (not covered in this tutorial)\n",
    " \n",
    "* Sequences:\n",
    " * ``str``: String, a sequence of Unicode characters in the range U+0000 - U+10FFFF\n",
    " * ``bytes``: a sequence of integers in the range 0-255, i.e. raw data\n",
    " * ``byte array``: like bytes, but mutable\n",
    " * ``list``: a mutable ordered sequence of variables\n",
    " * ``tuple``: an immutable ordered sequence of variables\n",
    " \n",
    "* Sets\n",
    " * ``set``: an unordered collection of unique objects\n",
    " * ``frozen set``: like set, but immutable\n",
    " \n",
    "* Mappings\n",
    " * ``dict``: a dictionary, also called a hashmap\n",
    " \n",
    "Python is **dynamically** typed, which means that the data types does not need to be declared, it is determined at run time.\n",
    "\n",
    "Python is **strongly** typed, which means that it typically does not attempt to coerce a data type to another. For instance it is not possible to concatenate a string and a number, which is often valid in many languages. The number needs to be converted into a string explicitly.\n",
    "\n",
    "The typing in Python is called **duck typing**. It is sufficient to implement the functions required and not necessary to explicitly implement an interface like in e.g. Java or C#.\n",
    "\n",
    "Each of the abovementioned types is also a built-in function that returns objects of said type.\n",
    "\n",
    "Sequences, sets and mappings are often iterated over. More on this later."
   ]
  },
  {
   "cell_type": "code",
   "execution_count": 32,
   "metadata": {
    "collapsed": false
   },
   "outputs": [
    {
     "name": "stdout",
     "output_type": "stream",
     "text": [
      "hello 6\n"
     ]
    }
   ],
   "source": [
    "value = 5\n",
    "value2 = value + 1\n",
    "\n",
    "my_string = \"hello \"\n",
    "my_string = my_string + str(value2) # you can attempt the same without converting to string\n",
    "print(my_string)"
   ]
  },
  {
   "cell_type": "markdown",
   "metadata": {},
   "source": [
    "### Mutable and immutable data types\n",
    "\n",
    "Some data types are mutable and some are immutable.\n",
    "\n",
    "**Mutable** data types can be changed after they are created for example:\n",
    "* a list can be appended to\n",
    "* a byte in a byte array can be altered\n",
    "* a set can be added to\n",
    "* a dict can be added to\n",
    "\n",
    "**Immutable** data types cannot be changed after they are created. Any operations on the data types will return a **new** instance of the same type, that is different. Typically this new value then needs to be assigned to a variable.\n",
    "\n",
    "| Immutable                        | Mutable    |\n",
    "|----------------------------------|------------|\n",
    "| numeric types (int, float, etc.) |            |\n",
    "| tuple                            | list       |\n",
    "| str                              | byte array |\n",
    "| frozen set                       | set        |\n",
    "|                                  | dict       |\n",
    "\n",
    "Only immutable data types can be the keys in a dict."
   ]
  },
  {
   "cell_type": "code",
   "execution_count": 57,
   "metadata": {
    "collapsed": false
   },
   "outputs": [
    {
     "name": "stdout",
     "output_type": "stream",
     "text": [
      "{'key': 'value', 'key2': 'value2'}\n",
      "['egg', 'sausage', 'bacon', 'spam']\n",
      "['egg', 'sausage', 'bacon', 'spam']\n",
      "heo word!\n",
      "hello world!\n",
      "(4, 5, 6, 6, 7)\n",
      "(4, 5, 6)\n"
     ]
    }
   ],
   "source": [
    "# mutable examples\n",
    "dict_ = {\"key\": \"value\"}\n",
    "dict_[\"key2\"] = \"value2\"\n",
    "print(dict_)\n",
    "\n",
    "list_ = [\"egg\", \"sausage\", \"bacon\"]\n",
    "list2 = list_\n",
    "list_.append(\"spam\")\n",
    "print(list_)\n",
    "\n",
    "# variables are just pointers to objects in memory\n",
    "# for mutable types all references point to the same object that has changed\n",
    "print(list2)\n",
    "\n",
    "# immutable examples\n",
    "\n",
    "str_ = \"hello world!\"\n",
    "print(str_.replace(\"l\", \"\"))\n",
    "print(str_)\n",
    "\n",
    "tuple_ = (4, 5, 6)\n",
    "print(tuple_ + (6,7))\n",
    "print(tuple_)"
   ]
  },
  {
   "cell_type": "markdown",
   "metadata": {},
   "source": [
    "### Lists\n",
    "\n",
    "Lists are created using [] brackets or the ``list()`` constructor. There is no requirement for all the objects in the list to be of the same type. This is a consequence of the **duck typing** mentioned earlier.\n",
    "\n",
    "Lists support multiple types of indexing."
   ]
  },
  {
   "cell_type": "code",
   "execution_count": 46,
   "metadata": {
    "collapsed": false
   },
   "outputs": [
    {
     "name": "stdout",
     "output_type": "stream",
     "text": [
      "1\n",
      "[2, 3]\n",
      "4\n",
      "[2, 3]\n"
     ]
    }
   ],
   "source": [
    "my_list = [1, 2, 3, 4]\n",
    "\n",
    "print(my_list[0]) # indexing starts from 0\n",
    "print(my_list[1:3]) # so-called slice syntax selects a part of a list\n",
    "print(my_list[-1]) # negative indices are also permitted, -1 is the last index\n",
    "print(my_list[-3:-1]) # also in slicing"
   ]
  },
  {
   "cell_type": "markdown",
   "metadata": {},
   "source": [
    "Lists can be appended to using several types of syntax"
   ]
  },
  {
   "cell_type": "code",
   "execution_count": 65,
   "metadata": {
    "collapsed": false
   },
   "outputs": [
    {
     "name": "stdout",
     "output_type": "stream",
     "text": [
      "[1, 2, 3]\n",
      "[1, 2, 3, 4, 5]\n",
      "[1, 2, 3, 4, 5, 6, 7]\n",
      "[1, 2, 3, 4, 5]\n"
     ]
    }
   ],
   "source": [
    "my_list = [1, 2]\n",
    "my_list.append(3) # modifies in place, takes a single item\n",
    "print(my_list)\n",
    "my_list.extend([4, 5]) # takes another list\n",
    "print(my_list)\n",
    "another_list = my_list + [6, 7] # makes a copy\n",
    "print(another_list)\n",
    "print(my_list)"
   ]
  },
  {
   "cell_type": "markdown",
   "metadata": {},
   "source": [
    "### Dictionaries\n",
    "\n",
    "Dictionaries are also accessed by using the []-brackets. A dict is accessed by key.\n",
    "\n",
    "The dict also contains a ``get()`` method that takes in a default value to return if the key is not present.\n",
    "\n",
    "It is assigned to using the bracket notation. If a key exists, the value is overriden."
   ]
  },
  {
   "cell_type": "code",
   "execution_count": 67,
   "metadata": {
    "collapsed": false
   },
   "outputs": [
    {
     "name": "stdout",
     "output_type": "stream",
     "text": [
      "2\n",
      "value\n",
      "default\n",
      "i was just inserted\n"
     ]
    }
   ],
   "source": [
    "my_dict = {1: 2, \"key\": \"value\"}\n",
    "print(my_dict[1])\n",
    "print(my_dict[\"key\"])\n",
    "print(my_dict.get(\"im_not_there\", \"default\"))\n",
    "\n",
    "my_dict[\"key2\"] = \"i was just inserted\"\n",
    "print(my_dict[\"key2\"])"
   ]
  },
  {
   "cell_type": "markdown",
   "metadata": {},
   "source": [
    "### Tuples\n",
    "\n",
    "A comma defines a tuple. for example\n",
    "```\n",
    "a,b\n",
    "```\n",
    "is a valid tuple. It's convention use parentheses to make the presence of a tuple more explicit,\n",
    "```\n",
    "(a, b)\n",
    "```\n",
    "but the parentheses are in no way required.\n",
    "\n",
    "Python does automatic packing and unpacking of tuples, as is illustrated by the following example."
   ]
  },
  {
   "cell_type": "code",
   "execution_count": 1,
   "metadata": {
    "collapsed": true
   },
   "outputs": [],
   "source": [
    "a, b = 1, 2\n",
    "a, b = b, a\n",
    "##Check what the values of a and b are now"
   ]
  },
  {
   "cell_type": "markdown",
   "metadata": {},
   "source": [
    "## Conditional statements\n",
    "\n",
    "The most common conditional statement in Python is the if-elif-else statement:\n",
    "\n",
    "```\n",
    "if variable > 5:\n",
    "  do_something()\n",
    "elif variable > 0:\n",
    "  do_something_else()\n",
    "else:\n",
    "  give_up()\n",
    "```\n",
    "\n",
    "Compared to languages like C, Java or Lisp, do you feel something is missing?\n",
    "\n",
    "Python is whitespace-aware and it uses the so-called [off-side rule](https://en.wikipedia.org/wiki/Off-side_rule) to annotate **code blocks**. This has several benefits\n",
    "* It's easy to read at a glance\n",
    "* levels of indentation are processed [pre-attentively](https://en.wikipedia.org/wiki/Pre-attentive_processing) to conserve brain power for everything\n",
    "* It's easy to write without having to worry too much\n",
    "\n",
    "One corollary of the indentation is that you need to be very aware of when you're using the tabulator character and when you're using a space. Most Python programmers only use whitespace and configure their editor to output several spaces when tab is pressed.\n",
    "\n",
    "**Note**: the line before a deeper level of indentation ends in a colon \":\". This syntax is part of beginning a new code block and surprisingly easy to forget."
   ]
  },
  {
   "cell_type": "code",
   "execution_count": 1,
   "metadata": {
    "collapsed": false
   },
   "outputs": [
    {
     "name": "stdout",
     "output_type": "stream",
     "text": [
      "value is precisely 5\n"
     ]
    }
   ],
   "source": [
    "value = 4\n",
    "value = value + 1\n",
    "if value < 5:\n",
    "    print(\"value is less than 5\")\n",
    "elif value > 5:\n",
    "    print(\"value is more than 5\")\n",
    "else:\n",
    "    print(\"value is precisely 5\")\n",
    "# go ahead and experiment by changing the value\n"
   ]
  },
  {
   "cell_type": "markdown",
   "metadata": {},
   "source": [
    "There is no switch-case type of statement in Python.\n",
    "\n",
    "**Note**: When evaluating conditional statements the values 0, an empty string and an empty list all evaluate to False. This can be confusing as it is one of the few places where Python doesn't enforce strong typing.\n",
    "\n"
   ]
  },
  {
   "cell_type": "markdown",
   "metadata": {},
   "source": [
    "### While statement\n",
    "\n",
    "Python supports ``while`` statement familiar from many languages. It is not nearly as much used because of iterators (covered later).\n",
    "\n",
    "```\n",
    "value = 5\n",
    "while value > 0:\n",
    "  value = do_something(value)\n",
    "```\n",
    "\n",
    "The following example shows how a list is used as the conditional."
   ]
  },
  {
   "cell_type": "code",
   "execution_count": 2,
   "metadata": {
    "collapsed": false
   },
   "outputs": [
    {
     "name": "stdout",
     "output_type": "stream",
     "text": [
      "4\n",
      "3\n",
      "2\n",
      "1\n"
     ]
    }
   ],
   "source": [
    "list_ = [1, 2, 3, 4]\n",
    "while list_: # remember, an empty list evaluates as False for conditional purposes\n",
    "    print(list_.pop()) # pop() removes the last entry from the list"
   ]
  },
  {
   "cell_type": "markdown",
   "metadata": {},
   "source": [
    "## Iterating\n",
    "\n",
    "Python has a ``for``-loop statement that is similar to the foreach statement in a lot of other languages.\n",
    "\n",
    "It is possible to loop over any iterables, i.e. lists, sets, tuples, even dicts."
   ]
  },
  {
   "cell_type": "code",
   "execution_count": 3,
   "metadata": {
    "collapsed": false
   },
   "outputs": [
    {
     "name": "stdout",
     "output_type": "stream",
     "text": [
      "This parrot is dead.\n",
      "This parrot has kicked the bucket.\n",
      "This parrot is no more.\n",
      "This parrot ceased to be.\n"
     ]
    }
   ],
   "source": [
    "synonyms = [\"is dead\", \"has kicked the bucket\", \"is no more\", \"ceased to be\"]\n",
    "for phrase in synonyms:\n",
    "    print(\"This parrot \" + phrase + \".\")"
   ]
  },
  {
   "cell_type": "markdown",
   "metadata": {},
   "source": [
    "It is possible to unpack things in this stage if that is required."
   ]
  },
  {
   "cell_type": "code",
   "execution_count": 6,
   "metadata": {
    "collapsed": false
   },
   "outputs": [
    {
     "name": "stdout",
     "output_type": "stream",
     "text": [
      "A is 1\n",
      "B is 2\n",
      "A is 3\n",
      "B is 4\n",
      "A is 5\n",
      "B is 6\n"
     ]
    }
   ],
   "source": [
    "tuples = (\n",
    "        (1, 2),\n",
    "        (3, 4),\n",
    "        (5, 6),\n",
    ")\n",
    "\n",
    "for x, y in tuples:\n",
    "    print(\"A is \" + str(x))\n",
    "    print(\"B is \" + str(y))"
   ]
  },
  {
   "cell_type": "markdown",
   "metadata": {},
   "source": [
    "In dictionaries the **keys** are iterated over by default."
   ]
  },
  {
   "cell_type": "code",
   "execution_count": 61,
   "metadata": {
    "collapsed": false
   },
   "outputs": [
    {
     "name": "stdout",
     "output_type": "stream",
     "text": [
      "The air speed of European swallows is 30\n",
      "The air speed of African swallows is 20\n"
     ]
    }
   ],
   "source": [
    "airspeed_swallows = {\"African\": 20, \"European\": 30}\n",
    "for swallow in airspeed_swallows:\n",
    "    print(\"The air speed of \" + swallow + \" swallows is \"+ str(airspeed_swallows[swallow]))"
   ]
  },
  {
   "cell_type": "markdown",
   "metadata": {},
   "source": [
    "It is still possible to loop through numbers using the built-in ``range`` function that returns an iterable with numbers in sequence. The function supports arbitary step lengths etc."
   ]
  },
  {
   "cell_type": "code",
   "execution_count": 77,
   "metadata": {
    "collapsed": false
   },
   "outputs": [
    {
     "name": "stdout",
     "output_type": "stream",
     "text": [
      "99 boxes of bottles of beer on the wall\n",
      "97 boxes of bottles of beer on the wall\n",
      "95 boxes of bottles of beer on the wall\n",
      "93 boxes of bottles of beer on the wall\n",
      "91 boxes of bottles of beer on the wall\n"
     ]
    }
   ],
   "source": [
    "for i in range(99, 90, -2): # parameters are from, to and step length in that order\n",
    "    print(str(i) +\" boxes of bottles of beer on the wall\")"
   ]
  },
  {
   "cell_type": "markdown",
   "metadata": {},
   "source": [
    "### breaking and continuing\n",
    "\n",
    "Sometimes it is necessary to stop the execution of a loop before it's time. For that there is the ``break`` keyword.\n",
    "\n",
    "At other times it is desired to end that particular step in the loop and immediately move to the next one.\n",
    "\n",
    "Both of the keywords could be substituted with complex if-else statements but a well-considered break or continue statement is more readable to the next programmer."
   ]
  },
  {
   "cell_type": "code",
   "execution_count": 87,
   "metadata": {
    "collapsed": false
   },
   "outputs": [
    {
     "name": "stdout",
     "output_type": "stream",
     "text": [
      "0\n",
      "1\n",
      "2\n",
      "3\n",
      "4\n",
      "5\n"
     ]
    }
   ],
   "source": [
    "for i in range(20):\n",
    "    if i % 7 == 6: # modulo operator\n",
    "        break #\n",
    "    print(i)"
   ]
  },
  {
   "cell_type": "code",
   "execution_count": 85,
   "metadata": {
    "collapsed": false
   },
   "outputs": [
    {
     "name": "stdout",
     "output_type": "stream",
     "text": [
      "5/-5 equals -1.0\n",
      "5/-4 equals -1.25\n",
      "5/-3 equals -1.6666666666666667\n",
      "5/-2 equals -2.5\n",
      "5/-1 equals -5.0\n",
      "not dividing by 0\n",
      "5/1 equals 5.0\n",
      "5/2 equals 2.5\n",
      "5/3 equals 1.6666666666666667\n",
      "5/4 equals 1.25\n"
     ]
    }
   ],
   "source": [
    "for i in range(-5, 5, 1):\n",
    "  if i == 0:\n",
    "        print (\"not dividing by 0\")\n",
    "        continue\n",
    "  print(\"5/\" + str(i) + \" equals \" + str(5/i))"
   ]
  },
  {
   "cell_type": "markdown",
   "metadata": {},
   "source": [
    "### Step aside: list comprehension\n",
    "\n",
    "The act of modifying all the values in a list into a new list  is so common in programming that there is a special syntax for it in python, the list comprehension.\n"
   ]
  },
  {
   "cell_type": "code",
   "execution_count": 114,
   "metadata": {
    "collapsed": false
   },
   "outputs": [
    {
     "data": {
      "text/plain": [
       "[2, 5, 8, 11]"
      ]
     },
     "execution_count": 114,
     "metadata": {},
     "output_type": "execute_result"
    }
   ],
   "source": [
    "list_1 = [1, 2, 3, 4]\n",
    "list_2 = [value*3-1 for value in list_1]\n",
    "list_2"
   ]
  },
  {
   "cell_type": "markdown",
   "metadata": {},
   "source": [
    "It is not necessary to use list comprehensions but they are mentioned so they can be understood if discovered in other programs.\n",
    "\n",
    "Part of the Zen of Python says\n",
    "\n",
    "    There should be one-- and preferably only one --obvious way to do it.\n",
    "    Although that way may not be obvious at first unless you're Dutch.\n",
    "    \n",
    "List comprehensions are the one and obvious way to do these kinds of operations so they are stated here.\n",
    "\n",
    "There is also possibility to add extra tests to the statement."
   ]
  },
  {
   "cell_type": "code",
   "execution_count": 113,
   "metadata": {
    "collapsed": false
   },
   "outputs": [
    {
     "data": {
      "text/plain": [
       "[5, 11]"
      ]
     },
     "execution_count": 113,
     "metadata": {},
     "output_type": "execute_result"
    }
   ],
   "source": [
    "list_1 = [1, 2, 3, 4]\n",
    "list_2 = [value*3-1 for value in list_1 if value % 2 == 0] #only take even numbers\n",
    "list_2\n"
   ]
  },
  {
   "cell_type": "markdown",
   "metadata": {},
   "source": [
    "**Note:** List comprehensions always create the entire list in memory. When handling large amounts of data or in an environment with limited memory it's often a good idea to avoid creating large data structures in memory.\n",
    "\n",
    "In Python a language feature called **generators** helps you do this. There is extra material about this in another notebook."
   ]
  },
  {
   "cell_type": "markdown",
   "metadata": {},
   "source": [
    "## Functions and function arguments"
   ]
  },
  {
   "cell_type": "markdown",
   "metadata": {},
   "source": [
    "Functions are the building blocks of writing software. If a function is associated with an object and it's data, it is called a method.\n",
    "\n",
    "Functions are defined using the keyword ``def``.\n",
    "\n",
    "There are two types of arguments\n",
    "* regular arguments, which must always be given when calling the function\n",
    "* keyword arguments, that have a default value that can be overriden if desired\n",
    "\n",
    "Values are returned using the ``return`` keyword. If not ``return`` is defined, the default return value of all functions and methods is **None**, which is the null object in Python."
   ]
  },
  {
   "cell_type": "code",
   "execution_count": 93,
   "metadata": {
    "collapsed": false
   },
   "outputs": [
    {
     "name": "stdout",
     "output_type": "stream",
     "text": [
      "a b 6 seven\n",
      "a b 6 eight\n"
     ]
    }
   ],
   "source": [
    "def my_function(arg_one, arg_two, optional_1=6, optional_2=\"seven\"):\n",
    "    return \" \".join([str(arg_one), str(arg_two), str(optional_1), str(optional_2)])\n",
    "\n",
    "print(my_function(\"a\", \"b\"))\n",
    "print(my_function(\"a\", \"b\", optional_2=\"eight\"))\n",
    "\n",
    "#go ahead and try out different components"
   ]
  },
  {
   "cell_type": "markdown",
   "metadata": {},
   "source": [
    "Python has special syntax for catching an arbitary number of parameters. For regular parameters it is a variable with one asterisk \\* and for keyword parameters it is a variable with two asterisks. It is conventional to name these \\*args and \\*\\*kwargs, but this is not required."
   ]
  },
  {
   "cell_type": "code",
   "execution_count": 98,
   "metadata": {
    "collapsed": false
   },
   "outputs": [
    {
     "name": "stdout",
     "output_type": "stream",
     "text": [
      "i was called with 5 arguments and 2 keyword arguments\n"
     ]
    }
   ],
   "source": [
    "def count_args(*args, **kwargs):\n",
    "    print(\"i was called with \" + str(len(args)) + \" arguments and \" + str(len(kwargs)) + \" keyword arguments\")\n",
    "    \n",
    "count_args(1, 2, 3, 4, 5, foo=1, bar=2)"
   ]
  },
  {
   "cell_type": "markdown",
   "metadata": {},
   "source": [
    "Consequently the length of sequences can be checked using the **len()** function."
   ]
  },
  {
   "cell_type": "markdown",
   "metadata": {},
   "source": [
    "## Modules and importing\n",
    "\n",
    "Python projects are structured into modules. \n",
    "\n",
    "There are a plethora of modules available in the [Python standard library](https://docs.python.org/3/library/). Those are always available to you but you must import them.\n",
    "\n",
    "Of course, you must also be aware of the fact that such a module exists. It is usually beneficial to be a bit lazy and assume someone has already solved your problem. Most of the time someone already has!"
   ]
  },
  {
   "cell_type": "code",
   "execution_count": 100,
   "metadata": {
    "collapsed": false
   },
   "outputs": [
    {
     "data": {
      "text/plain": [
       "18.84955592153876"
      ]
     },
     "execution_count": 100,
     "metadata": {},
     "output_type": "execute_result"
    }
   ],
   "source": [
    "import math\n",
    "\n",
    "def circle_circumference(r):\n",
    "    return 2*math.pi*r\n",
    "\n",
    "circle_circumference(3)"
   ]
  },
  {
   "cell_type": "markdown",
   "metadata": {},
   "source": [
    "At it's simplest a module can just be a python file.\n",
    "\n",
    "### Task:\n",
    "create a file called mymodule.py in using jupyter (New -> Text File)\n",
    "\n",
    "Edit the contents of the file to be\n",
    "\n",
    "```\n",
    "def fancy_function(x):\n",
    "    return x + x\n",
    "```\n",
    "\n",
    "And save the file.\n",
    "\n",
    "Now you can"
   ]
  },
  {
   "cell_type": "code",
   "execution_count": 101,
   "metadata": {
    "collapsed": false
   },
   "outputs": [
    {
     "name": "stdout",
     "output_type": "stream",
     "text": [
      "2\n",
      "hihi\n"
     ]
    }
   ],
   "source": [
    "from mymodule import fancy_function\n",
    "\n",
    "print(fancy_function(1))\n",
    "print(fancy_function(\"hi\"))"
   ]
  },
  {
   "cell_type": "markdown",
   "metadata": {},
   "source": [
    "Modules can also have more structure in them. To make a directory a module, you must place a special file, called **__init__.py** in the directory.\n",
    "\n",
    "```\n",
    "main.py\n",
    "bigmodule/\n",
    "  __init__.py\n",
    "  module_a.py\n",
    "  module_b.py\n",
    "```\n",
    "Now in main.py, you could ``import bigmodule.module_a``.\n",
    "\n",
    "It is also possible to import only a single member from a module, like a variable or a fuction."
   ]
  },
  {
   "cell_type": "code",
   "execution_count": 106,
   "metadata": {
    "collapsed": false
   },
   "outputs": [
    {
     "name": "stdout",
     "output_type": "stream",
     "text": [
      "7.38905609893065\n",
      "12.566370614359172\n"
     ]
    }
   ],
   "source": [
    "from math import exp\n",
    "\n",
    "print(exp(2))\n",
    "\n",
    "def circle_area(r):\n",
    "    if r < 0:\n",
    "        return 0\n",
    "    else:\n",
    "        #you can also import inside functions or other code blocks\n",
    "        from math import pi\n",
    "        return pi*r*r\n",
    "print(circle_area(2))"
   ]
  },
  {
   "cell_type": "markdown",
   "metadata": {},
   "source": [
    "Whether to import the entire module or only what you need depends on your circumstances and how the module has been designed to be used. It's usually good to pick a practice inside a project and stick to it."
   ]
  },
  {
   "cell_type": "markdown",
   "metadata": {},
   "source": []
  }
 ],
 "metadata": {
  "kernelspec": {
   "display_name": "Python 3",
   "language": "python",
   "name": "python3"
  },
  "language_info": {
   "codemirror_mode": {
    "name": "ipython",
    "version": 3
   },
   "file_extension": ".py",
   "mimetype": "text/x-python",
   "name": "python",
   "nbconvert_exporter": "python",
   "pygments_lexer": "ipython3",
   "version": "3.5.2"
  }
 },
 "nbformat": 4,
 "nbformat_minor": 2
}
