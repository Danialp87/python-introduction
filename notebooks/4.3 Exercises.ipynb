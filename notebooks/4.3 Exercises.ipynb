{
 "cells": [
  {
   "cell_type": "markdown",
   "metadata": {},
   "source": [
    "# File and string-related exercises\n",
    "\n"
   ]
  },
  {
   "cell_type": "markdown",
   "metadata": {},
   "source": [
    "## Count number of words in a file\n",
    "\n",
    "Write a function that will open a file and count the instances of each word in the file.\n",
    "\n",
    "You can split lines along whitespace using the ``split()`` function."
   ]
  },
  {
   "cell_type": "code",
   "execution_count": null,
   "metadata": {
    "collapsed": false
   },
   "outputs": [],
   "source": [
    "# you may find this helpful, look in the documentation what it does\n",
    "from collections import defaultdict\n",
    "\n",
    "def count_words(filename):\n",
    "    \"\"\"Reads in a file and returns a count of all the words in the file.\n",
    "    \"\"\"\n",
    "    words = 0\n",
    "    with open(filename, \"r\") as infile:\n",
    "        for line in infile:\n",
    "            line = line.strip()  # Remove newline in the end\n",
    "            line = line.split()  # split line into a list of words\n",
    "            words += len(line)\n",
    "\n",
    "    return words\n",
    "\n",
    "def count_unique_words(filename):\n",
    "    \"\"\"Reads in a file and returns unique words in the file.\"\"\"\n",
    "    \n",
    "    words = {}\n",
    "    with open(filename, \"r\") as infile:\n",
    "        for line in infile:\n",
    "            line = line.strip()  # Remove newline in the end\n",
    "            line = line.split()  # split line into a list of words\n",
    "        for word in line:\n",
    "            words.setdefault(word, 0)\n",
    "            words[word] += 1\n",
    "\n",
    "    return words\n",
    "    \n",
    "num_words = count_words(\"../data/grep.txt\")\n",
    "print(num_words)\n",
    "uniq_words = count_unique_words(\"../data/grep.txt\")\n",
    "print(uniq_words)\n"
   ]
  },
  {
   "cell_type": "markdown",
   "metadata": {},
   "source": [
    "You can test this against the file \"../data/grep.txt\""
   ]
  },
  {
   "cell_type": "markdown",
   "metadata": {},
   "source": [
    "## Compound exercise, modules and file access"
   ]
  },
  {
   "cell_type": "markdown",
   "metadata": {},
   "source": [
    "Do this exercise writing Python files.\n",
    "\n",
    "Create the following module structure\n",
    "```\n",
    "main.py\n",
    "stats/\n",
    "  __init__.py\n",
    "  simple.py\n",
    "```\n",
    "\n",
    "Insert the following function to the list.\n",
    "\n",
    "```\n",
    "def mean(list, key=lambda x:float(x)):\n",
    "    \"\"\" count the mean of the values in the list, using function key \n",
    "        to access value from object. Defaults to assuming values are integers.\n",
    "    \"\"\"\n",
    "    if list:\n",
    "        return sum([key(x) for x in list])/len(list)\n",
    "    else:\n",
    "        return 0\n",
    "```"
   ]
  },
  {
   "cell_type": "markdown",
   "metadata": {},
   "source": [
    "Now, write the following into main.py.\n",
    "\n",
    "```\n",
    "import sys\n",
    "\n",
    "def main():\n",
    "    print(sys.argv)\n",
    "   \n",
    "if __name__ == \"__main__\":\n",
    "    main()\n",
    "```\n",
    "\n",
    "Now you can run the script with\n",
    "```\n",
    "$ python3 main.py\n",
    "```\n",
    "\n",
    "Experiment to find out what sys.argv holds.\n"
   ]
  },
  {
   "cell_type": "markdown",
   "metadata": {},
   "source": [
    "Next, create a function which reads in a CSV file using csv.DictReader and returns a iterable containing dicts.\n",
    "\n",
    "Place this in another module, ``util.py`` next to simple.py."
   ]
  },
  {
   "cell_type": "markdown",
   "metadata": {},
   "source": [
    "Modify main.py so that it takes in two parameters:\n",
    "* a filename (of a csv file)\n",
    "* the name of a column in the CSV file.\n",
    "\n",
    "Import helper functions from ``stats.simple`` and ``stats.util`` so that the file from the first command line parameter is opened and read and the mean of the named column is computed.\n",
    "\n",
    "You can download the files in \"iris.data\" or \"csv.data\"\n",
    "\n",
    "*This exercise may seem a bit complex. It is intended to give an example of how to structure a larger Python program.*"
   ]
  }
 ],
 "metadata": {
  "kernelspec": {
   "display_name": "Python 3",
   "language": "python",
   "name": "python3"
  },
  "language_info": {
   "codemirror_mode": {
    "name": "ipython",
    "version": 3
   },
   "file_extension": ".py",
   "mimetype": "text/x-python",
   "name": "python",
   "nbconvert_exporter": "python",
   "pygments_lexer": "ipython3",
   "version": "3.4.5"
  }
 },
 "nbformat": 4,
 "nbformat_minor": 2
}
