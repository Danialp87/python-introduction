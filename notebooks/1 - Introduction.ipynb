{
 "cells": [
  {
   "cell_type": "markdown",
   "metadata": {},
   "source": [
    "# Introduction to Python 3\n",
    "\n",
    "Python is a modern programming language that \n",
    "* is open source\n",
    "* is interpreted\n",
    " * interpreters exist for most platforms\n",
    "* is multi-paradigm (incl. object-oriented)\n",
    "* comes with [batteries included](https://www.python.org/dev/peps/pep-0206/#batteries-included-philosophy) whenever possible\n",
    "\n",
    "### Versions\n",
    "\n",
    "Version 2 of the Python language (2.7 is the current minor version) is what made Python popular. However it was far from perfect, and version 3 of Python fixes many of the most glaring design flaws in Python 2.\n",
    "\n",
    "Because version 2 gained popularity rapidly, it has taken over 10 years for version 3 to gain foothold. This is the first time CSC gives introduction to Python course using Python 3.\n",
    "\n",
    "### Three levels of Python\n",
    "\n",
    "There are 3 levels of functionality you can use in Python\n",
    "* the built-in parts\n",
    " * the language itself that is used to write programs\n",
    "* the [standard library](https://docs.python.org/3/library/)\n",
    " * these cover many common tasks in programming in general, e.g.\n",
    "   * file system and operating system abstraction\n",
    "   * reading standardized file formats (zip, xml, csv, etc.)\n",
    "   * most common data communications protocols (HTTP and email protocols)\n",
    "   * more data types, programming libraries\n",
    "* the Python ecosystem, mostly available via the [Python Package Index PyPI](https://pypi.python.org/pypi)\n",
    "   * tens of thousands of packages of varying quality\n",
    "   * libraries for\n",
    "    * numeric computation (e.g. NumPy)\n",
    "    * machine learning (e.g. scikit-learn)\n",
    "    * HTTP frameworks (e.g. Django)\n",
    "    * natural language analysis (e.g. nltk)\n",
    "    * data visualization\n",
    "    \n",
    "The core or built-in parts of Python is relatively small and we will cover that first.\n",
    "\n",
    "The typical way to write python programs is to write it in script files that end in *.py and that can be run with the ``python`` command. We will get to that later but first we use this Jupyter Notebook to go over the basics of the language."
   ]
  },
  {
   "cell_type": "markdown",
   "metadata": {},
   "source": [
    "### Syntax\n",
    "\n",
    "First a few motivational words from [The Zen of Python](https://www.python.org/dev/peps/pep-0020/)\n",
    "\n",
    "    Beautiful is better than ugly.\n",
    "    Simple is better than complex.\n",
    "    Readability counts.\n",
    "    \n",
    "The design of Python aims for simplicity."
   ]
  },
  {
   "cell_type": "markdown",
   "metadata": {},
   "source": [
    "## First program\n",
    "\n",
    "The first exercise in most programming tutorials is a Hello World -program.\n",
    "\n",
    "You can edit the code in the cell below and run it by clicking on the run-button in the above toolbar or by pressing CTRL+Enter when you have the cell in focus (surrounded by a green box).\n",
    "\n",
    "The text between the quotation marks \"\" is a string. ``print`` is a function and the parameters are inside regular brackets () in a C-kind of style."
   ]
  },
  {
   "cell_type": "code",
   "execution_count": null,
   "metadata": {
    "collapsed": true
   },
   "outputs": [],
   "source": [
    "print(\"hello world!\")"
   ]
  },
  {
   "cell_type": "markdown",
   "metadata": {},
   "source": [
    "These exercises are run in this notebook environment, but you could just as easily copy the text below to a file called **hello.py** and run it with the command\n",
    "\n",
    "    $ python hello.py\n",
    "    hello world!\n",
    "\n",
    "**Extra**: compare this with a hello world program in some other programming language that you know. Is it simpler or more complex? What kinds of design decisions have to have been made in order for the example to be this simple?"
   ]
  },
  {
   "cell_type": "markdown",
   "metadata": {},
   "source": [
    "## Getting help\n",
    "\n",
    "The built-in function ```help()``` will show you interactive documentation about most Python objects when you're inside an interpreter.\n",
    "\n",
    "If you want to know all the members of an object (more about objects and classes later) you can call the ```dir()``` function."
   ]
  },
  {
   "cell_type": "code",
   "execution_count": null,
   "metadata": {
    "collapsed": true
   },
   "outputs": [],
   "source": [
    "help(print)"
   ]
  },
  {
   "cell_type": "markdown",
   "metadata": {},
   "source": [
    "## Variables and data types\n",
    "\n",
    "Variable is something that can change in the execution of a program. It is referenced by a name.\n",
    "\n",
    "In Python variable names\n",
    "* may contain letters, numbers or underscores\n",
    "* start with a a letter or underscore (but not with a number!)\n",
    "* are case sensitive\n",
    "\n",
    "Underscores in the beginning or end of a variable are part of idiomatic coding style that hints things to the reader of the code. We will get to that later.\n",
    "\n",
    "Try them out below:"
   ]
  },
  {
   "cell_type": "code",
   "execution_count": null,
   "metadata": {
    "collapsed": false
   },
   "outputs": [],
   "source": [
    "hello_example_1 = \"hello world!\" # comments are marked with the #-sign\n",
    "hello_example_1 = 5\n",
    "hello_example_1 \n",
    "# in a Jupyter notebook if the cell ends \n",
    "# with a single variable, the system will print the \n",
    "# value for you"
   ]
  },
  {
   "cell_type": "markdown",
   "metadata": {},
   "source": [
    "Python is a [dynamically typed](https://en.wikipedia.org/wiki/Type_system#Dynamic_type_checking_and_runtime_type_information), [strongly typed](https://en.wikipedia.org/wiki/Strong_and_weak_typing) language. It's OK not to understand the terms completely. They are simply mentioned because they carry very specific meaning to experienced programmers.\n",
    "\n",
    "In practice this means that:\n",
    "\n",
    "* variables (and their types) don't need to be declared\n",
    "* trying to use a variable of an incorrect type will result in errors\n"
   ]
  },
  {
   "cell_type": "markdown",
   "metadata": {},
   "source": [
    "### Data types\n",
    "\n",
    "Python has a small set of basic data types, that are grouped into groups that we will introduce. All variables in python have a type and you can use the built-in method ``type()`` to check the type of a variable.\n",
    "\n",
    "* ``boolean``: is a data type that can be either True or False (note capitalization of first letter)\n",
    "\n",
    "* Numeric types, that represent numbers\n",
    " * ``int``: integers, not limited in length\n",
    " * ``float``: floating point numbers, like doubles in C, with similar caveats\n",
    " * ``complex``: complex numbers, represented by j (not covered in this tutorial)\n",
    " \n",
    "* Sequences:\n",
    " * ``str``: String, a sequence of Unicode characters in the range U+0000 - U+10FFFF\n",
    " * ``bytes``: a sequence of integers in the range 0-255, i.e. raw data\n",
    " * ``byte array``: like bytes, but mutable\n",
    " * ``list``: a mutable ordered sequence of variables\n",
    " * ``tuple``: an immutable ordered sequence of variables\n",
    " \n",
    "* Sets\n",
    " * ``set``: an unordered collection of unique objects\n",
    " * ``frozen set``: like set, but immutable\n",
    " \n",
    "* Mappings\n",
    " * ``dict``: a dictionary, also called a hashmap\n",
    " \n",
    "Python is **dynamically** typed, which means that the data types does not need to be declared, it is determined at run time.\n",
    "\n",
    "Python is **strongly** typed, which means that it typically does not attempt to coerce a data type to another. For instance it is not possible to concatenate a string and a number, which is often valid in many languages. The number needs to be converted into a string explicitly.\n",
    "\n",
    "The typing in Python is called **duck typing**. It is sufficient to implement the functions required and not necessary to explicitly implement an interface like in e.g. Java or C#.\n",
    "\n",
    "Each of the abovementioned types is also a built-in function that returns objects of said type.\n",
    "\n",
    "Sequences, sets and mappings are often iterated over. More on this later."
   ]
  },
  {
   "cell_type": "code",
   "execution_count": null,
   "metadata": {
    "collapsed": false
   },
   "outputs": [],
   "source": [
    "value = 5\n",
    "value2 = value + 1\n",
    "\n",
    "my_string = \"hello \"\n",
    "my_string = my_string + str(value2) # you can attempt the same without converting to string\n",
    "print(my_string)"
   ]
  },
  {
   "cell_type": "markdown",
   "metadata": {},
   "source": [
    "### Mutable and immutable data types\n",
    "\n",
    "Some data types are mutable and some are immutable.\n",
    "\n",
    "**Mutable** data types can be changed after they are created for example:\n",
    "* a list can be appended to\n",
    "* a byte in a byte array can be altered\n",
    "* a set can be added to\n",
    "* a dict can be added to\n",
    "\n",
    "**Immutable** data types cannot be changed after they are created. Any operations on the data types will return a **new** instance of the same type, that is different. Typically this new value then needs to be assigned to a variable.\n",
    "\n",
    "| Immutable                        | Mutable    |\n",
    "|----------------------------------|------------|\n",
    "| numeric types (int, float, etc.) |            |\n",
    "| tuple                            | list       |\n",
    "| str                              | byte array |\n",
    "| frozen set                       | set        |\n",
    "|                                  | dict       |\n",
    "\n",
    "Only immutable data types can be the keys in a dict."
   ]
  },
  {
   "cell_type": "code",
   "execution_count": null,
   "metadata": {
    "collapsed": false
   },
   "outputs": [],
   "source": [
    "# mutable examples\n",
    "dict_ = {\"key\": \"value\"}\n",
    "dict_[\"key2\"] = \"value2\"\n",
    "print(dict_)\n",
    "\n",
    "list_ = [\"egg\", \"sausage\", \"bacon\"]\n",
    "list2 = list_\n",
    "list_.append(\"spam\")\n",
    "print(list_)\n",
    "\n",
    "# variables are just pointers to objects in memory\n",
    "# for mutable types all references point to the same object that has changed\n",
    "print(list2)\n",
    "\n",
    "# immutable examples\n",
    "\n",
    "str_ = \"hello world!\"\n",
    "print(str_.replace(\"l\", \"\"))\n",
    "print(str_)\n",
    "\n",
    "tuple_ = (4, 5, 6)\n",
    "print(tuple_ + (6,7))\n",
    "print(tuple_)"
   ]
  },
  {
   "cell_type": "markdown",
   "metadata": {},
   "source": [
    "### Lists\n",
    "\n",
    "Lists are created using [] brackets or the ``list()`` constructor, which accepts many types of other objects. There is no requirement for all the objects in the list to be of the same type. This is a consequence of the **duck typing** mentioned earlier.\n",
    "\n",
    "Lists support multiple types of indexing."
   ]
  },
  {
   "cell_type": "code",
   "execution_count": null,
   "metadata": {
    "collapsed": true
   },
   "outputs": [],
   "source": [
    "my_list = [1, 2, 3, 4]\n",
    "\n",
    "print(my_list[0]) # indexing starts from 0\n",
    "print(my_list[1:3]) # so-called slice syntax selects a part of a list\n",
    "print(my_list[-1]) # negative indices are also permitted, -1 is the last index\n",
    "print(my_list[-3:-1]) # also in slicing"
   ]
  },
  {
   "cell_type": "markdown",
   "metadata": {},
   "source": [
    "Lists can be appended to using several types of syntax"
   ]
  },
  {
   "cell_type": "code",
   "execution_count": null,
   "metadata": {
    "collapsed": true
   },
   "outputs": [],
   "source": [
    "my_list = [1, 2]\n",
    "my_list.append(3) # modifies in place, takes a single item\n",
    "print(my_list)\n",
    "my_list.extend([4, 5]) # takes another list\n",
    "print(my_list)\n",
    "another_list = my_list + [6, 7] # makes a copy\n",
    "print(another_list)\n",
    "print(my_list)"
   ]
  },
  {
   "cell_type": "markdown",
   "metadata": {},
   "source": [
    "### Dictionaries\n",
    "\n",
    "Dictionaries are also accessed by using the []-brackets. A dict is accessed by key.\n",
    "\n",
    "The dict also contains a ``get()`` method that takes in a default value to return if the key is not present.\n",
    "\n",
    "It is assigned to using the bracket notation. If a key exists, the value is overriden."
   ]
  },
  {
   "cell_type": "code",
   "execution_count": 5,
   "metadata": {
    "collapsed": false
   },
   "outputs": [
    {
     "name": "stdout",
     "output_type": "stream",
     "text": [
      "2\n",
      "value\n",
      "default\n",
      "i was just inserted\n"
     ]
    }
   ],
   "source": [
    "my_dict = {1: 2, \"key\": \"value\"}\n",
    "print(my_dict[1])\n",
    "print(my_dict[\"key\"])\n",
    "print(my_dict.get(\"im_not_there\", \"default\"))\n",
    "\n",
    "my_dict[\"key2\"] = \"i was just inserted\"\n",
    "print(my_dict[\"key2\"])"
   ]
  },
  {
   "cell_type": "markdown",
   "metadata": {},
   "source": [
    "### Tuples\n",
    "\n",
    "A comma defines a tuple. for example\n",
    "```\n",
    "a,b\n",
    "```\n",
    "is a valid tuple. It's convention use parentheses to make the presence of a tuple more explicit,\n",
    "```\n",
    "(a, b)\n",
    "```\n",
    "but the parentheses are in no way required.\n",
    "\n",
    "Python does automatic packing and unpacking of tuples, as is illustrated by the following example."
   ]
  },
  {
   "cell_type": "code",
   "execution_count": 6,
   "metadata": {
    "collapsed": true
   },
   "outputs": [],
   "source": [
    "a, b = 1, 2\n",
    "a, b = b, a\n",
    "##Check what the values of a and b are now"
   ]
  },
  {
   "cell_type": "markdown",
   "metadata": {},
   "source": [
    "## Exercises\n",
    "\n",
    "Use python as a calculator to compute\n",
    "* 5 + 5\n",
    "* 10 / 2 + 5\n",
    "* 5 + 10 / 2\n",
    "* 2^8, the \\*\\* operator does exponentiation"
   ]
  },
  {
   "cell_type": "code",
   "execution_count": null,
   "metadata": {
    "collapsed": true
   },
   "outputs": [],
   "source": [
    "# use python as a calculator to compute"
   ]
  },
  {
   "cell_type": "markdown",
   "metadata": {},
   "source": [
    "Using the imported constant pi and the variable r, compute the area of a sphere."
   ]
  },
  {
   "cell_type": "code",
   "execution_count": 12,
   "metadata": {
    "collapsed": false
   },
   "outputs": [
    {
     "data": {
      "text/plain": [
       "3.141592653589793"
      ]
     },
     "execution_count": 12,
     "metadata": {},
     "output_type": "execute_result"
    }
   ],
   "source": [
    "r = 1\n",
    "from math import pi\n"
   ]
  },
  {
   "cell_type": "markdown",
   "metadata": {},
   "source": [
    " Python has C-like assignment syntax for assigning to a variable that is the \n",
    " +=, *=, -=, /= etc.\n",
    "figure out how it works here"
   ]
  },
  {
   "cell_type": "code",
   "execution_count": null,
   "metadata": {
    "collapsed": true
   },
   "outputs": [],
   "source": []
  },
  {
   "cell_type": "markdown",
   "metadata": {},
   "source": [
    "### Sequence types and dictionaries\n"
   ]
  },
  {
   "cell_type": "markdown",
   "metadata": {},
   "source": [
    "1. Create a tuple called ``mytuple``, with the following strings: \"sausage\", \"eggs\" and \"bacon\"\n",
    "2. check it's type using ``type()```\n",
    "3. coerce it to a list using ``list()`` and assign to ``mylist``\n"
   ]
  },
  {
   "cell_type": "code",
   "execution_count": null,
   "metadata": {
    "collapsed": true
   },
   "outputs": [],
   "source": []
  },
  {
   "cell_type": "markdown",
   "metadata": {},
   "source": [
    "Attempt to append the string \"spam\" \n",
    "to ``mylist`` and ``mytuple`` using ``append``."
   ]
  },
  {
   "cell_type": "code",
   "execution_count": null,
   "metadata": {
    "collapsed": true
   },
   "outputs": [],
   "source": []
  },
  {
   "cell_type": "markdown",
   "metadata": {},
   "source": [
    "Using the multiplication and addition syntaxes, add the word \"spam\" another 12 times to the end of the list."
   ]
  },
  {
   "cell_type": "code",
   "execution_count": null,
   "metadata": {
    "collapsed": true
   },
   "outputs": [],
   "source": []
  },
  {
   "cell_type": "markdown",
   "metadata": {},
   "source": [
    "As the list is clearly a menu, let's convert it to a string.\n",
    "\n",
    "Python strings have a very handy ``join`` function which joins all the values in an iterable by the string. To create a comma-separated list you can simply call\n",
    "\n",
    "```\n",
    "\", \".join(my_list)\n",
    "```\n",
    "To create a string where items are separated by a comma and a space. \n",
    "\n",
    "Please practice restraint in using this to create CSV files though."
   ]
  },
  {
   "cell_type": "code",
   "execution_count": 16,
   "metadata": {
    "collapsed": true
   },
   "outputs": [],
   "source": [
    "# print the contents of the list here"
   ]
  },
  {
   "cell_type": "markdown",
   "metadata": {},
   "source": [
    "#### Slicing\n",
    "\n",
    "Slicing syntax is handy for operating on multidimensional arrays, especially matrices.\n",
    "\n",
    "Using ``range()`` create a list that has the numbers from 50 to 0 with a step of -2."
   ]
  },
  {
   "cell_type": "code",
   "execution_count": null,
   "metadata": {
    "collapsed": true
   },
   "outputs": [],
   "source": []
  },
  {
   "cell_type": "markdown",
   "metadata": {},
   "source": [
    "Using slicing syntax, select\n",
    "* the last 4 items from the list\n",
    "* the items from index 10 to index 13\n",
    "* the first 5 items from the list"
   ]
  },
  {
   "cell_type": "code",
   "execution_count": null,
   "metadata": {
    "collapsed": true
   },
   "outputs": [],
   "source": []
  },
  {
   "cell_type": "markdown",
   "metadata": {},
   "source": [
    "Read up on the [stride syntax](https://en.wikipedia.org/wiki/Array_slicing#1991:_Python) . Then using it select \n",
    "* every third value in the array\n",
    "* the values with an odd-numbered index in the array"
   ]
  },
  {
   "cell_type": "code",
   "execution_count": null,
   "metadata": {
    "collapsed": true
   },
   "outputs": [],
   "source": []
  },
  {
   "cell_type": "markdown",
   "metadata": {},
   "source": [
    "## Dictionaries\n",
    "\n",
    "Create a dictionary with the following keys and values\n",
    "\n",
    "| Key                      | Value              |\n",
    "|--------------------------|--------------------|\n",
    "| Stilton                  | Sorry.             |\n",
    "| Emmental                 | No.                |\n",
    "| Danish Blue              | No.                |\n",
    "| Venezuelan Beaver Cheese | Not today sir, no. |\n",
    "| Greek Feta               | Ah, not as such.   |\n",
    "\n",
    "(it's ok to Copy&Paste, this is not a typing exercise)"
   ]
  },
  {
   "cell_type": "code",
   "execution_count": null,
   "metadata": {
    "collapsed": true
   },
   "outputs": [],
   "source": []
  },
  {
   "cell_type": "markdown",
   "metadata": {},
   "source": [
    "Add Gouda with the value \"No.\"\n",
    "\n",
    "Remove the Venezuelan Beaver Cheese using the ``del``operator.\n",
    "\n",
    "Using the ``in`` operator check if \"Emmental\" is a key in the dictionary."
   ]
  },
  {
   "cell_type": "code",
   "execution_count": null,
   "metadata": {
    "collapsed": true
   },
   "outputs": [],
   "source": []
  },
  {
   "cell_type": "markdown",
   "metadata": {},
   "source": [
    "Conver the following tuple using the ``dict()`` function."
   ]
  },
  {
   "cell_type": "markdown",
   "metadata": {},
   "source": [
    "In addition to the []-syntax dictionaries also support a ``get()`` method, which also takes a default value that is returned if the key is not found in the dictionary.\n",
    "\n",
    "Use the get()-method to look for a cheese of your own choosing with the default value \"No.\" from the dictionary."
   ]
  },
  {
   "cell_type": "code",
   "execution_count": null,
   "metadata": {
    "collapsed": true
   },
   "outputs": [],
   "source": []
  },
  {
   "cell_type": "markdown",
   "metadata": {},
   "source": [
    "Conver the following list of tuples to dictionary using ``dict()```\n"
   ]
  },
  {
   "cell_type": "code",
   "execution_count": 7,
   "metadata": {
    "collapsed": true
   },
   "outputs": [],
   "source": [
    "tuples_to_dict = [(1, 2),\n",
    "                  (3, 4)]"
   ]
  },
  {
   "cell_type": "markdown",
   "metadata": {},
   "source": [
    "Extract the first two items of the last row of the following two-dimensional list using list indexing and slice syntax."
   ]
  },
  {
   "cell_type": "code",
   "execution_count": 11,
   "metadata": {
    "collapsed": false
   },
   "outputs": [],
   "source": [
    "list_ = [5, 6, 7, 8, 9, 10, 11] \n",
    "list_2d = [\n",
    "    [1, 2, 3, 4],\n",
    "    [\"Spam\", \"sausage\", \"bacon\", \"eggs\"],\n",
    "    list_\n",
    "    ]\n"
   ]
  },
  {
   "cell_type": "markdown",
   "metadata": {},
   "source": [
    "Let's check that sum is in fact a built-in function"
   ]
  },
  {
   "cell_type": "code",
   "execution_count": 14,
   "metadata": {
    "collapsed": false
   },
   "outputs": [
    {
     "data": {
      "text/plain": [
       "6"
      ]
     },
     "execution_count": 14,
     "metadata": {},
     "output_type": "execute_result"
    }
   ],
   "source": [
    "sum([1, 2, 3])"
   ]
  },
  {
   "cell_type": "markdown",
   "metadata": {},
   "source": [
    "Try to assign the value 6 to out the following variable names\n",
    "````\n",
    "first-name\n",
    "family_name\n",
    "3PO\n",
    "____variable\n",
    "inb4tool8\n",
    "sum\n",
    "in\n",
    "```\n",
    "\n",
    "Which of them are valid to assign to? \n",
    "\n",
    "Extra: why do you think the ones that cause an error are not valid? What's the reason?"
   ]
  },
  {
   "cell_type": "code",
   "execution_count": null,
   "metadata": {
    "collapsed": true
   },
   "outputs": [],
   "source": []
  },
  {
   "cell_type": "markdown",
   "metadata": {},
   "source": [
    "You probably noticed that even though ``sum`` is a method in the namespace it was still valid to create a variable called ``sum``. To set things back run the following code (it's not necessary to understand at this point)."
   ]
  },
  {
   "cell_type": "code",
   "execution_count": 15,
   "metadata": {
    "collapsed": false
   },
   "outputs": [
    {
     "data": {
      "text/plain": [
       "6"
      ]
     },
     "execution_count": 15,
     "metadata": {},
     "output_type": "execute_result"
    }
   ],
   "source": [
    "sum = __builtins__.sum\n",
    "sum([1, 2, 3])"
   ]
  },
  {
   "cell_type": "markdown",
   "metadata": {},
   "source": [
    "## Using the interpreter\n",
    "\n",
    "Start the interpreter with the following terminal command\n",
    "```\n",
    "$ python3\n",
    "```\n",
    "\n",
    "Try to execute some very simple statements in the interactive interpreter to get a feel for it.\n",
    "\n",
    "```\n",
    "print(“Hello! ”)\n",
    "1j**2\n",
    "4 / 2\n",
    "my_tuple = (1, 2, 3)\n",
    "my_tuple[0] = 1\n",
    "2.3**4.5\n",
    "```\n",
    "\n",
    "Now type a more complex function to the interpreter, be careful to get the whitespace right:\n",
    "\n",
    "```\n",
    "for i in range(10, 1, -1):\n",
    "    if i % 2 == 1:\n",
    "        print(str(i) \" boxes of bottles of beer on the wall)\n",
    "```\n",
    "\n",
    "For a final spin try out the ``help`` command live in the interpreter.\n",
    "\n",
    "```\n",
    "import math\n",
    "help(math)\n",
    "help(math.sin)\n",
    "```"
   ]
  },
  {
   "cell_type": "code",
   "execution_count": null,
   "metadata": {
    "collapsed": true
   },
   "outputs": [],
   "source": []
  }
 ],
 "metadata": {
  "kernelspec": {
   "display_name": "Python 3",
   "language": "python",
   "name": "python3"
  },
  "language_info": {
   "codemirror_mode": {
    "name": "ipython",
    "version": 3
   },
   "file_extension": ".py",
   "mimetype": "text/x-python",
   "name": "python",
   "nbconvert_exporter": "python",
   "pygments_lexer": "ipython3",
   "version": "3.5.2"
  }
 },
 "nbformat": 4,
 "nbformat_minor": 2
}
