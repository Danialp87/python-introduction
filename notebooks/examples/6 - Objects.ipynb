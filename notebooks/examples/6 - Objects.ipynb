{
 "cells": [
  {
   "cell_type": "markdown",
   "metadata": {},
   "source": [
    "# Objects and exceptions"
   ]
  },
  {
   "cell_type": "markdown",
   "metadata": {},
   "source": [
    "Object-oriented programming is a widespread paradigm that helps programmers create intuitive layers of abstraction.\n",
    "\n",
    "In Python, classes are defined with the keyword ``class``. All classes should inherit either some other class or a base-class confusingly called ``object``.\n",
    "\n",
    "When a function is associated with a class, it is called a method."
   ]
  },
  {
   "cell_type": "code",
   "execution_count": null,
   "metadata": {
    "collapsed": true
   },
   "outputs": [],
   "source": [
    "class Vector2D(object):\n",
    "    \"\"\"Represents a 2-dimensional vector\"\"\"\n",
    "    \n",
    "    def __init__(self, x, y):\n",
    "        self.x = x\n",
    "        self.y = y"
   ]
  },
  {
   "cell_type": "markdown",
   "metadata": {},
   "source": [
    "Typically classes are made to store some data that is logically related to a single entity. \n",
    "\n",
    "When a class is **instantiated**, i.e. given a set of values , the result of the action is an **object**."
   ]
  },
  {
   "cell_type": "code",
   "execution_count": null,
   "metadata": {
    "collapsed": false
   },
   "outputs": [],
   "source": [
    "vector1 = Vector2D(1,1)\n",
    "vector2 = Vector2D(0,0)\n",
    "type(vector1)(2, 3)"
   ]
  },
  {
   "cell_type": "markdown",
   "metadata": {},
   "source": [
    "Object-oriented design can let programmers re-use code by inheriting other classes to extend their functionality.\n"
   ]
  },
  {
   "cell_type": "code",
   "execution_count": null,
   "metadata": {
    "collapsed": true
   },
   "outputs": [],
   "source": [
    "class AddableVector2D(Vector2D):\n",
    "    \"\"\"Represents a 2D vector that can be added to another\"\"\"\n",
    "    def add(self, another):\n",
    "        return type(self)(self.x + another.x, self.y + another.y)"
   ]
  },
  {
   "cell_type": "code",
   "execution_count": null,
   "metadata": {
    "collapsed": false
   },
   "outputs": [],
   "source": [
    "addvec1 = AddableVector2D(1,1)\n",
    "addvec2 = AddableVector2D(2,2)\n",
    "addvec3 = addvec1.add(addvec2)"
   ]
  },
  {
   "cell_type": "markdown",
   "metadata": {},
   "source": [
    "Python has plenty of so-called **magic methods** for classes. For instance, the ``__str__`` method defines how a vector is textually represented when you call it's str. The ``__repr__`` controls how the object is represented in the interpreter.\n"
   ]
  },
  {
   "cell_type": "code",
   "execution_count": null,
   "metadata": {
    "collapsed": false
   },
   "outputs": [],
   "source": [
    "class RepresentableVector2D(Vector2D):\n",
    "    \"\"\" A vector that has textual representations\"\"\"\n",
    "    \n",
    "    def __str__(self):\n",
    "        return \"Vector2D({},{})\".format(self.x, self.y)\n",
    "    \n",
    "    def __repr__(self):\n",
    "        return str(self)"
   ]
  },
  {
   "cell_type": "code",
   "execution_count": null,
   "metadata": {
    "collapsed": false
   },
   "outputs": [],
   "source": [
    "rv1 = RepresentableVector2D(1, 2)\n",
    "print(str(rv1))\n",
    "rv1"
   ]
  },
  {
   "cell_type": "markdown",
   "metadata": {},
   "source": [
    "Python supports multiple inheritance. This is another very powerful tool, but can sometimes lead to confusion when the same function is defined in many classes. If this confuses you, the concept to look for is [Method Resolution Order](https://www.python.org/download/releases/2.3/mro/) . \n",
    "\n",
    "It is possible to call a parent class's methods using the keyword ``super``.\n",
    "\n",
    "Also, it is possible to define what regular operators do to a class."
   ]
  },
  {
   "cell_type": "code",
   "execution_count": null,
   "metadata": {
    "collapsed": true
   },
   "outputs": [],
   "source": [
    "class ExtendedVector2D(AddableVector2D, RepresentableVector2D):\n",
    "    \"\"\" A vector that has several features\"\"\"\n",
    "    \n",
    "    def __str__(self):\n",
    "        return \"Extended\" + super(ExtendedVector2D, self).__str__()\n",
    "    \n",
    "    # addition with +\n",
    "    def __add__(self, other):\n",
    "        return self.add(other)\n",
    "    # negation with - prefix\n",
    "    \n",
    "    def __neg__(self):\n",
    "        return type(self)(-self.x, -self.y)\n",
    "    # subtraction with -\n",
    "    \n",
    "    def __sub__(self, other):\n",
    "        return self + (-other)\n",
    "    \n",
    "    def __mul__(self, scalar):\n",
    "        return type(self)(self.x*scalar, self.y*scalar)"
   ]
  },
  {
   "cell_type": "code",
   "execution_count": null,
   "metadata": {
    "collapsed": false
   },
   "outputs": [],
   "source": [
    "vec1 = ExtendedVector2D(1, 4)\n",
    "vec2 = vec1 * 0.5\n",
    "vec3 = vec1 - (vec2*3)\n",
    "vec3"
   ]
  },
  {
   "cell_type": "markdown",
   "metadata": {},
   "source": [
    "Observe that in most cases we don't check for the types of the arguments given. This is idiomatic Python and contrary to some other object-oriented languages.\n",
    "\n",
    "    It is better to ask for forgiveness than permission"
   ]
  },
  {
   "cell_type": "markdown",
   "metadata": {},
   "source": [
    "Another powerful feature of classes is composability: you can abstract something to another level.\n",
    "\n",
    "Let's make a class to represent a very rough vector-based drawing."
   ]
  },
  {
   "cell_type": "code",
   "execution_count": null,
   "metadata": {
    "collapsed": true
   },
   "outputs": [],
   "source": [
    "class Drawing2D(object):\n",
    "    def __init__(self, x=0, y=0, initial_vectors=None):\n",
    "        self.x = x\n",
    "        self.y = y\n",
    "        self.vectors = initial_vectors if initial_vectors else []\n",
    "        \n",
    "    def add(self, vector):\n",
    "        self.vectors.append(vector)\n",
    "        \n",
    "    def scale(self, scalar):\n",
    "        self.vectors = [v*scalar for v in self.vectors]\n",
    "        \n",
    "    def __str__(self):\n",
    "        output = \"start at {},{}.\\n\".format(self.x, self.y)\n",
    "        for vector in self.vectors:\n",
    "            output += \"draw vector {},{}\\n\".format(vector.x, vector.y)\n",
    "        return output\n"
   ]
  },
  {
   "cell_type": "markdown",
   "metadata": {},
   "source": [
    "As in all Python one should be aware of when an operation changes the state of an object, like our drawing and when it returns a new object, like multiplying vectors with a scalar.\n",
    "\n",
    "Instead of text we could create a Scalable Vector Graphics (SVG) image using this class."
   ]
  },
  {
   "cell_type": "code",
   "execution_count": null,
   "metadata": {
    "collapsed": false
   },
   "outputs": [],
   "source": [
    "vectors = [vec1, vec2, vec3]\n",
    "drawing = Drawing2D(0,0, vectors)\n",
    "print(drawing)\n",
    "drawing.scale(0.75)\n",
    "print('---')\n",
    "print(drawing)\n",
    "print('---')\n",
    "drawing.add(ExtendedVector2D(-1,-1))\n",
    "print(drawing)"
   ]
  },
  {
   "cell_type": "markdown",
   "metadata": {},
   "source": [
    "## Exceptions"
   ]
  },
  {
   "cell_type": "markdown",
   "metadata": {},
   "source": [
    "In Python, exceptions are lightweight, i.e. handling them doesn't cause a notable decrease in performance as happens in some languages.\n",
    "\n",
    "The purpose of exceptions is to communicate that something didn't go right. The name of the exception typically tells what kind of error ocurred and the exception can also contain a more explicit message."
   ]
  },
  {
   "cell_type": "code",
   "execution_count": null,
   "metadata": {
    "collapsed": true
   },
   "outputs": [],
   "source": [
    "class Container(object):\n",
    "    \n",
    "    def __init__(self):\n",
    "        self.bag = {}\n",
    "        \n",
    "    def put(self, key, item):\n",
    "        self.bag[key] = item\n",
    "        \n",
    "    def get(self, key):\n",
    "        return self.bag[key]"
   ]
  },
  {
   "cell_type": "markdown",
   "metadata": {},
   "source": [
    "The container-class can exhibit at least two different exceptions."
   ]
  },
  {
   "cell_type": "code",
   "execution_count": null,
   "metadata": {
    "collapsed": false
   },
   "outputs": [],
   "source": [
    "container = Container()\n",
    "container.put([1, 2, 3], \"example\")"
   ]
  },
  {
   "cell_type": "code",
   "execution_count": null,
   "metadata": {
    "collapsed": false
   },
   "outputs": [],
   "source": [
    "container.get(\"not_in_it\")"
   ]
  },
  {
   "cell_type": "markdown",
   "metadata": {},
   "source": [
    "Who should worry about the various issues is a good philosophical question. We could either make the Container-class secure in that it doesn't raise any errors to whoever calls it or we could let the caller worry about such errors.\n",
    "\n",
    "For now let's assume that the programmer is competent and knows what is a valid key and what isn't.\n"
   ]
  },
  {
   "cell_type": "code",
   "execution_count": null,
   "metadata": {
    "collapsed": false
   },
   "outputs": [],
   "source": [
    "try:\n",
    "    container = Container()\n",
    "    container.put([1,2,3], \"value\")\n",
    "except TypeError as err:\n",
    "    print(\"Stupid programmer caused an error: \" + str(err))\n",
    "    "
   ]
  },
  {
   "cell_type": "markdown",
   "metadata": {},
   "source": [
    "A try-except may contain a ``finally``block, which is always guaranteed to execute.\n",
    "\n",
    "Also, it is permissible to catch multiple different errors."
   ]
  },
  {
   "cell_type": "code",
   "execution_count": null,
   "metadata": {
    "collapsed": false
   },
   "outputs": [],
   "source": [
    "try:\n",
    "    container = Container()\n",
    "    container.put(3, \"value\")\n",
    "    container.get(3)\n",
    "except TypeError as err:\n",
    "    print(\"Stupid programmer caused an error: \" + str(err))\n",
    "except KeyError as err:\n",
    "    print(\"Stupid programmer caused another error: \" + str(err))\n",
    "finally:\n",
    "    print(\"all is well in the end\")\n",
    "    \n",
    "# go ahead, make changes that cause one of the exceptions to be raised"
   ]
  },
  {
   "cell_type": "markdown",
   "metadata": {},
   "source": [
    "There is also syntax for catching multiple error types in the same catch clause.\n",
    "\n",
    "The keyword ``raise`` is used to continue error handling. This is useful if you want to log errors but let them pass onward anyway.\n",
    "\n",
    "A ``raise`` without arguments will re-raise the error that was being handled."
   ]
  },
  {
   "cell_type": "code",
   "execution_count": null,
   "metadata": {
    "collapsed": false
   },
   "outputs": [],
   "source": [
    "try:\n",
    "    container = Container()\n",
    "    container.put(3, \"value\")\n",
    "    container.get(5)\n",
    "except (TypeError, KeyError)  as err:\n",
    "    print(\"please shoot me\")\n",
    "    if type(err) == TypeError:\n",
    "        raise Exception(\"That's it I quit!\")\n",
    "    else:\n",
    "        raise"
   ]
  }
 ],
 "metadata": {
  "kernelspec": {
   "display_name": "Python 3",
   "language": "python",
   "name": "python3"
  },
  "language_info": {
   "codemirror_mode": {
    "name": "ipython",
    "version": 3
   },
   "file_extension": ".py",
   "mimetype": "text/x-python",
   "name": "python",
   "nbconvert_exporter": "python",
   "pygments_lexer": "ipython3",
   "version": "3.5.2"
  }
 },
 "nbformat": 4,
 "nbformat_minor": 2
}
