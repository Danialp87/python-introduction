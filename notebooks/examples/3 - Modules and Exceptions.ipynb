{
 "cells": [
  {
   "cell_type": "markdown",
   "metadata": {},
   "source": [
    "# Functions and Exceptions\n"
   ]
  },
  {
   "cell_type": "markdown",
   "metadata": {},
   "source": [
    "## Functions and function arguments\n",
    "\n",
    "Functions are the building blocks of writing software. If a function is associated with an object and it's data, it is called a method. \n",
    "\n",
    "Functions are defined using the keyword ``def``.\n",
    "\n",
    "There are two types of arguments\n",
    "* regular arguments, which must always be given when calling the function\n",
    "* keyword arguments, that have a default value that can be overriden if desired\n",
    "\n",
    "Values are returned using the ``return`` keyword. If not ``return`` is defined, the default return value of all functions and methods is **None**, which is the null object in Python."
   ]
  },
  {
   "cell_type": "code",
   "execution_count": null,
   "metadata": {
    "collapsed": false
   },
   "outputs": [],
   "source": [
    "def my_function(arg_one, arg_two, optional_1=6, optional_2=\"seven\"):\n",
    "    return \" \".join([str(arg_one), str(arg_two), str(optional_1), str(optional_2)])\n",
    "\n",
    "print(my_function(\"a\", \"b\"))\n",
    "print(my_function(\"a\", \"b\", optional_2=\"eight\"))\n",
    "\n",
    "#go ahead and try out different components"
   ]
  },
  {
   "cell_type": "markdown",
   "metadata": {},
   "source": [
    "Python has special syntax for catching an arbitary number of parameters. For regular parameters it is a variable with one asterisk \\* and for keyword parameters it is a variable with two asterisks. It is conventional to name these ``*args`` and ``**kwargs``, but this is not required."
   ]
  },
  {
   "cell_type": "code",
   "execution_count": null,
   "metadata": {
    "collapsed": false
   },
   "outputs": [],
   "source": [
    "def count_args(*args, **kwargs):\n",
    "    print(\"i was called with \" + str(len(args)) + \" arguments and \" + str(len(kwargs)) + \" keyword arguments\")\n",
    "    \n",
    "count_args(1, 2, 3, 4, 5, foo=1, bar=2)"
   ]
  },
  {
   "cell_type": "markdown",
   "metadata": {},
   "source": [
    "The length of sequences can be checked using the built-in **len()** function.\n"
   ]
  },
  {
   "cell_type": "markdown",
   "metadata": {},
   "source": [
    "It is standard practice to document a function using **docstrings**. A docstring is just a simple triple-quoted string immediately after the function definition. It is also possible to have docstrings in the beginning of a source code file and after a class definition."
   ]
  },
  {
   "cell_type": "code",
   "execution_count": null,
   "metadata": {
    "collapsed": true
   },
   "outputs": [],
   "source": [
    "def random():\n",
    "    \"\"\"\n",
    "    Always the number 4. \n",
    "    Chosen by fair dice roll. Guaranteed to be random.\n",
    "    \"\"\"\n",
    "    return 4"
   ]
  },
  {
   "cell_type": "markdown",
   "metadata": {},
   "source": [
    "#### Functions as parameters\n",
    "\n",
    "Functions are first-class citizens in Python, which means that they can be e.g. passed to other functions. This is the first step into the world of functional programming, an elegant weapon for a more civilized age."
   ]
  },
  {
   "cell_type": "code",
   "execution_count": null,
   "metadata": {
    "collapsed": false
   },
   "outputs": [],
   "source": [
    "def print_dashes():\n",
    "    print(\"---\")\n",
    "    \n",
    "def print_asterisks():\n",
    "    print(\"***\")\n",
    "    \n",
    "def pretty_print(string, function):\n",
    "    function()\n",
    "    print(string)\n",
    "    function()\n",
    "    \n",
    "pretty_print(\"hello\", print_dashes)\n",
    "pretty_print(\"hey\", print_asterisks)"
   ]
  },
  {
   "cell_type": "markdown",
   "metadata": {},
   "source": [
    "## Exceptions\n",
    "\n",
    "Exceptions are a way to tell someone calling your code that something went wrong. Some programming languages like C use special return values to denote errors but that is not the Python way.\n",
    "\n",
    "Try running the code below"
   ]
  },
  {
   "cell_type": "code",
   "execution_count": 1,
   "metadata": {
    "collapsed": false
   },
   "outputs": [
    {
     "ename": "ZeroDivisionError",
     "evalue": "division by zero",
     "output_type": "error",
     "traceback": [
      "\u001b[0;31m---------------------------------------------------------------------------\u001b[0m",
      "\u001b[0;31mZeroDivisionError\u001b[0m                         Traceback (most recent call last)",
      "\u001b[0;32m<ipython-input-1-05c9758a9c21>\u001b[0m in \u001b[0;36m<module>\u001b[0;34m()\u001b[0m\n\u001b[0;32m----> 1\u001b[0;31m \u001b[0;36m1\u001b[0m\u001b[0;34m/\u001b[0m\u001b[0;36m0\u001b[0m\u001b[0;34m\u001b[0m\u001b[0m\n\u001b[0m",
      "\u001b[0;31mZeroDivisionError\u001b[0m: division by zero"
     ]
    }
   ],
   "source": [
    "my_variable = 1/0"
   ]
  },
  {
   "cell_type": "markdown",
   "metadata": {},
   "source": [
    "That didn't work out because division by zero is an error for very good reasons.\n",
    "\n",
    "The way to ensure that program execution can continue is to wrap the code in a try-except statement."
   ]
  },
  {
   "cell_type": "code",
   "execution_count": 2,
   "metadata": {
    "collapsed": false
   },
   "outputs": [
    {
     "name": "stdout",
     "output_type": "stream",
     "text": [
      "division with zero is not permitted\n"
     ]
    }
   ],
   "source": [
    "try:\n",
    "    my_variable = 1/0\n",
    "except ZeroDivisionError:\n",
    "    print(\"division with zero is not permitted\")"
   ]
  },
  {
   "cell_type": "markdown",
   "metadata": {},
   "source": [
    "A very typical source of errors are users. This more complex example illustrates a function that ``raises`` an exception and the calling code that catches it to recover from a user error."
   ]
  },
  {
   "cell_type": "code",
   "execution_count": 10,
   "metadata": {
    "collapsed": false
   },
   "outputs": [
    {
     "name": "stdout",
     "output_type": "stream",
     "text": [
      "give a number:aljdghlg\n",
      "user gave a value that is not a number\n"
     ]
    }
   ],
   "source": [
    "def square_root(x):\n",
    "    from math import sqrt\n",
    "    if x < 0:\n",
    "        raise NotImplementedError(\"Imaginary numbers not supported!\")\n",
    "    return sqrt(x)\n",
    "\n",
    "try:\n",
    "    var = int(input(\"give a number:\"))\n",
    "    print(\"sqrt is:\" + str(square_root(var)))\n",
    "except ValueError as e:\n",
    "    print(\"user gave a value that is not a number\")\n",
    "    # we could e.g. print(e) here\n",
    "except NotImplementedError as e:\n",
    "    print(\"User tried to use a feature that is not supported: \" + str(e))\n",
    "    "
   ]
  },
  {
   "cell_type": "markdown",
   "metadata": {},
   "source": [
    "As you observed, a `try-except` clause can have multiple `except` clauses for different types of errors. All errors can be caught with\n",
    "\n",
    "```\n",
    "except:\n",
    "  # handler code here\n",
    "```\n",
    "\n",
    "It is also possible to have a `finally` -clause that is guaranteed to run whether or not an error was handled. This is often useful for closing files (more on that later) etc."
   ]
  },
  {
   "cell_type": "code",
   "execution_count": 12,
   "metadata": {
    "collapsed": false
   },
   "outputs": [
    {
     "name": "stdout",
     "output_type": "stream",
     "text": [
      "give a number:5\n",
      "sqrt is:2.23606797749979\n",
      "Phew made it to the end!\n"
     ]
    }
   ],
   "source": [
    "try:\n",
    "    var = int(input(\"give a number:\"))\n",
    "    print(\"sqrt is:\" + str(square_root(var)))\n",
    "except ValueError as e:\n",
    "    print(\"user gave a value that is not a number\")\n",
    "    # we could e.g. print(e) here\n",
    "except NotImplementedError as e:\n",
    "    print(\"User tried to use a feature that is not supported: \" + str(e))\n",
    "finally:\n",
    "    print(\"Phew made it to the end!\")"
   ]
  },
  {
   "cell_type": "code",
   "execution_count": null,
   "metadata": {
    "collapsed": true
   },
   "outputs": [],
   "source": []
  }
 ],
 "metadata": {
  "kernelspec": {
   "display_name": "Python 3",
   "language": "python",
   "name": "python3"
  },
  "language_info": {
   "codemirror_mode": {
    "name": "ipython",
    "version": 3
   },
   "file_extension": ".py",
   "mimetype": "text/x-python",
   "name": "python",
   "nbconvert_exporter": "python",
   "pygments_lexer": "ipython3",
   "version": "3.5.2"
  }
 },
 "nbformat": 4,
 "nbformat_minor": 2
}
