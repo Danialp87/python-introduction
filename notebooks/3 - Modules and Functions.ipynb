{
 "cells": [
  {
   "cell_type": "markdown",
   "metadata": {},
   "source": [
    "# Modules and Functions\n"
   ]
  },
  {
   "cell_type": "markdown",
   "metadata": {},
   "source": [
    "## Functions and function arguments\n",
    "\n",
    "Functions are the building blocks of writing software. If a function is associated with an object and it's data, it is called a method. \n",
    "\n",
    "Functions are defined using the keyword ``def``.\n",
    "\n",
    "There are two types of arguments\n",
    "* regular arguments, which must always be given when calling the function\n",
    "* keyword arguments, that have a default value that can be overriden if desired\n",
    "\n",
    "Values are returned using the ``return`` keyword. If not ``return`` is defined, the default return value of all functions and methods is **None**, which is the null object in Python."
   ]
  },
  {
   "cell_type": "code",
   "execution_count": null,
   "metadata": {
    "collapsed": false
   },
   "outputs": [],
   "source": [
    "def my_function(arg_one, arg_two, optional_1=6, optional_2=\"seven\"):\n",
    "    return \" \".join([str(arg_one), str(arg_two), str(optional_1), str(optional_2)])\n",
    "\n",
    "print(my_function(\"a\", \"b\"))\n",
    "print(my_function(\"a\", \"b\", optional_2=\"eight\"))\n",
    "\n",
    "#go ahead and try out different components"
   ]
  },
  {
   "cell_type": "markdown",
   "metadata": {},
   "source": [
    "Python has special syntax for catching an arbitary number of parameters. For regular parameters it is a variable with one asterisk \\* and for keyword parameters it is a variable with two asterisks. It is conventional to name these ``*args`` and ``**kwargs``, but this is not required."
   ]
  },
  {
   "cell_type": "code",
   "execution_count": null,
   "metadata": {
    "collapsed": false
   },
   "outputs": [],
   "source": [
    "def count_args(*args, **kwargs):\n",
    "    print(\"i was called with \" + str(len(args)) + \" arguments and \" + str(len(kwargs)) + \" keyword arguments\")\n",
    "    \n",
    "count_args(1, 2, 3, 4, 5, foo=1, bar=2)"
   ]
  },
  {
   "cell_type": "markdown",
   "metadata": {},
   "source": [
    "The length of sequences can be checked using the built-in **len()** function.\n"
   ]
  },
  {
   "cell_type": "markdown",
   "metadata": {},
   "source": [
    "It is standard practice to document a function using **docstrings**. A docstring is just a simple triple-quoted string immediately after the function definition. It is also possible to have docstrings in the beginning of a source code file and after a class definition."
   ]
  },
  {
   "cell_type": "code",
   "execution_count": null,
   "metadata": {
    "collapsed": true
   },
   "outputs": [],
   "source": [
    "def random():\n",
    "    \"\"\"\n",
    "    Always the number 4. \n",
    "    Chosen by fair dice roll. Guaranteed to be random.\n",
    "    \"\"\"\n",
    "    return 4"
   ]
  },
  {
   "cell_type": "markdown",
   "metadata": {},
   "source": [
    "#### Functions as parameters\n",
    "\n",
    "Functions are first-class citizens in Python, which means that they can be e.g. passed to other functions. This is the first step into the world of functional programming, an elegant weapon for a more civilized age."
   ]
  },
  {
   "cell_type": "code",
   "execution_count": null,
   "metadata": {
    "collapsed": false
   },
   "outputs": [],
   "source": [
    "def print_dashes():\n",
    "    print(\"---\")\n",
    "    \n",
    "def print_asterisks():\n",
    "    print(\"***\")\n",
    "    \n",
    "def pretty_print(string, function):\n",
    "    function()\n",
    "    print(string)\n",
    "    function()\n",
    "    \n",
    "pretty_print(\"hello\", print_dashes)\n",
    "pretty_print(\"hey\", print_asterisks)"
   ]
  },
  {
   "cell_type": "markdown",
   "metadata": {},
   "source": [
    "## Modules and importing\n",
    "\n",
    "Python projects are structured into modules. \n",
    "\n",
    "There are a plethora of modules available in the [Python standard library](https://docs.python.org/3/library/). Those are always available to you but you must import them.\n",
    "\n",
    "Of course, you must also be aware of the fact that such a module exists. It is usually beneficial to be a bit lazy and assume someone has already solved your problem. Most of the time someone already has!"
   ]
  },
  {
   "cell_type": "code",
   "execution_count": null,
   "metadata": {
    "collapsed": false
   },
   "outputs": [],
   "source": [
    "import math\n",
    "\n",
    "def circle_circumference(r):\n",
    "    return 2*math.pi*r\n",
    "\n",
    "circle_circumference(3)"
   ]
  },
  {
   "cell_type": "markdown",
   "metadata": {},
   "source": [
    "At it's simplest a module can just be a python file.\n",
    "\n",
    "\n",
    "Let's create a file called mymodule.py in using jupyter (New -> Text File)\n",
    "and edit the contents of the file to be:\n",
    "\n",
    "```\n",
    "def fancy_function(x):\n",
    "    return x + x\n",
    "```\n",
    "\n",
    "And save the file.\n",
    "\n",
    "Now you can"
   ]
  },
  {
   "cell_type": "code",
   "execution_count": null,
   "metadata": {
    "collapsed": false
   },
   "outputs": [],
   "source": [
    "from mymodule import fancy_function\n",
    "\n",
    "print(fancy_function(1))\n",
    "print(fancy_function(\"hi\"))"
   ]
  },
  {
   "cell_type": "markdown",
   "metadata": {},
   "source": [
    "\n",
    "Modules can also have more structure in them. To make a directory a module, you must place a special file, called **__init__.py** in the directory.\n",
    "\n",
    "```\n",
    "main.py\n",
    "bigmodule/\n",
    "  __init__.py\n",
    "  module_a.py\n",
    "  module_b.py\n",
    "```\n",
    "Now in main.py, you could ``import bigmodule.module_a``.\n",
    "\n",
    "It is also possible to import only a single member from a module, like a variable or a fuction."
   ]
  },
  {
   "cell_type": "code",
   "execution_count": null,
   "metadata": {
    "collapsed": false
   },
   "outputs": [],
   "source": [
    "from math import exp\n",
    "\n",
    "print(exp(1)) # which exponent is this\n",
    "\n",
    "def circle_area(r):\n",
    "    if r < 0:\n",
    "        return 0\n",
    "    else:\n",
    "        # you can also import inside functions or other code blocks\n",
    "        from math import pi\n",
    "        return pi*r*r\n",
    "print(circle_area(2))"
   ]
  },
  {
   "cell_type": "markdown",
   "metadata": {},
   "source": [
    "Whether to import the entire module or only what you need depends on your circumstances and how the module has been designed to be used. It's usually good to pick a practice inside a project and stick to it."
   ]
  },
  {
   "cell_type": "markdown",
   "metadata": {},
   "source": [
    "### Compound exercise: Kaprekar's constant\n",
    "\n",
    "Implement a function that computes Kaprekar's routine for a given value\n",
    "\n",
    "1. Take any four-digit number, using at least two different digits. (Leading zeros are allowed.)\n",
    "2. Arrange the digits in descending and then in ascending order to get two four-digit numbers, adding leading zeros if necessary.\n",
    "3. Subtract the smaller number from the bigger number.\n",
    "4. Go back to step 2.\n",
    "\n",
    "This routine will reach value 6174 in at most 7 iterations.\n",
    "\n",
    "Return the number of steps taken until you reach the value 6174. Return -1 if the input value is not valid, i.e. it has more than 4 digits or it doesn't have at least two different digits."
   ]
  },
  {
   "cell_type": "code",
   "execution_count": null,
   "metadata": {
    "collapsed": true
   },
   "outputs": [],
   "source": [
    "#some helper functions to simplify the task\n",
    "def integer_to_string(int_):\n",
    "    \"\"\" Convert an integer to a 4-digit number with leading zeros\"\"\"\n",
    "    return \"{0:04d}\".format(int_)\n",
    "\n",
    "def number_to_digits(number):\n",
    "    \"\"\" Return a list of the individual digits in a number\"\"\"\n",
    "    if type(number) == int:\n",
    "        number = integer_to_string(number)\n",
    "    return list(number)\n",
    "\n",
    "def digits_to_int(digits):\n",
    "    \"\"\" Convert a list of digits to an integer\"\"\"\n",
    "    return int(\"\".join(digits))\n",
    "\n",
    "def kaprekar_steps(integer):\n",
    "    # your implementation here\n",
    "    pass"
   ]
  },
  {
   "cell_type": "markdown",
   "metadata": {},
   "source": [
    "Now compute the kaprekar steps for each value from 1 to 9999, store the result if it is not -1 and compute the mean number of steps the algorithm takes. You can use the ``mean()``-function you just implemented."
   ]
  }
 ],
 "metadata": {
  "kernelspec": {
   "display_name": "Python 3",
   "language": "python",
   "name": "python3"
  },
  "language_info": {
   "codemirror_mode": {
    "name": "ipython",
    "version": 3
   },
   "file_extension": ".py",
   "mimetype": "text/x-python",
   "name": "python",
   "nbconvert_exporter": "python",
   "pygments_lexer": "ipython3",
   "version": "3.5.2"
  }
 },
 "nbformat": 4,
 "nbformat_minor": 2
}
