{
 "cells": [
  {
   "cell_type": "markdown",
   "metadata": {},
   "source": [
    "# Exercises: Basic Python\n",
    "\n",
    "These exercises relate to the Python language."
   ]
  },
  {
   "cell_type": "markdown",
   "metadata": {},
   "source": [
    "## Variable names\n"
   ]
  },
  {
   "cell_type": "code",
   "execution_count": 2,
   "metadata": {
    "collapsed": false
   },
   "outputs": [
    {
     "data": {
      "text/plain": [
       "6"
      ]
     },
     "execution_count": 2,
     "metadata": {},
     "output_type": "execute_result"
    }
   ],
   "source": [
    "#first let's check that sum is in fact a built-in function\n",
    "sum([1, 2, 3])"
   ]
  },
  {
   "cell_type": "markdown",
   "metadata": {},
   "source": [
    "Try to assign the value 6 to out the following variable names\n",
    "````\n",
    "first-name\n",
    "family_name\n",
    "3PO\n",
    "____variable\n",
    "inb4tool8\n",
    "sum\n",
    "in\n",
    "```\n",
    "\n",
    "Which of them are valid to assign to? \n",
    "\n",
    "Extra: why do you think the ones that cause an error are not valid? What's the reason?"
   ]
  },
  {
   "cell_type": "code",
   "execution_count": null,
   "metadata": {
    "collapsed": true
   },
   "outputs": [],
   "source": [
    "# Try things out here"
   ]
  },
  {
   "cell_type": "markdown",
   "metadata": {},
   "source": [
    "You probably noticed that even though ``sum`` is a method in the namespace it was still valid to create a variable called ``sum``. To set things back run the following code (it's not necessary to understand at this point)."
   ]
  },
  {
   "cell_type": "code",
   "execution_count": 9,
   "metadata": {
    "collapsed": false
   },
   "outputs": [
    {
     "data": {
      "text/plain": [
       "6"
      ]
     },
     "execution_count": 9,
     "metadata": {},
     "output_type": "execute_result"
    }
   ],
   "source": [
    "sum = __builtins__.sum\n",
    "sum([1, 2, 3])"
   ]
  },
  {
   "cell_type": "markdown",
   "metadata": {},
   "source": [
    "## Using the interpreter\n",
    "\n",
    "Start the interpreter with the following terminal command\n",
    "```\n",
    "$ python3\n",
    "```\n",
    "\n",
    "Try to execute some very simple statements in the interactive interpreter to get a feel for it.\n",
    "\n",
    "```\n",
    "print(“Hello! ”)\n",
    "1j**2\n",
    "4 / 2\n",
    "my_tuple = (1, 2, 3)\n",
    "my_tuple[0] = 1\n",
    "2.3**4.5\n",
    "```\n",
    "\n",
    "Now type a more complex function to the interpreter, be careful to get the whitespace right:\n",
    "\n",
    "```\n",
    "for i in range(10, 1, -1):\n",
    "    if i % 2 == 1:\n",
    "        print(str(i) \" boxes of bottles of beer on the wall)\n",
    "```\n",
    "\n",
    "For a final spin try out the ``help`` command live in the interpreter.\n",
    "\n",
    "```\n",
    "import math\n",
    "help(math)\n",
    "help(math.sin)\n",
    "```"
   ]
  },
  {
   "cell_type": "markdown",
   "metadata": {},
   "source": [
    "### Conditionals integer division type\n",
    "\n",
    "Different programming languages have different approaches to integer division. Some feel it is important that an integer divided by an integer always outputs an integer. In these languages the division is done by ignoring everything after the possible comma and it is called floor division. In other languages the division of two integers returns the result, even if it is a decimal number. This is called true division.\n",
    "\n",
    "Construct an if else-statement that tests whether Python 3 has floor division (i.e. 5 / 2 == 2) or true division (ie. 5/2 == 2.5) and prints \"Python3 has floor division\" or \"Python3 has true division\" based on the result of your test."
   ]
  },
  {
   "cell_type": "code",
   "execution_count": null,
   "metadata": {
    "collapsed": true
   },
   "outputs": [],
   "source": [
    "#write your code here"
   ]
  },
  {
   "cell_type": "markdown",
   "metadata": {},
   "source": [
    "**note** this is one of the incompatible differences between Python versions 2 and 3. It behaves the other way in Python 2."
   ]
  },
  {
   "cell_type": "markdown",
   "metadata": {},
   "source": [
    "### Sequence types and dictionaries\n",
    "\n",
    "Create a list with the following strings \"sausage\", \"eggs\", \"bacon\".\n"
   ]
  },
  {
   "cell_type": "code",
   "execution_count": null,
   "metadata": {
    "collapsed": true
   },
   "outputs": [],
   "source": [
    "#write your code here"
   ]
  },
  {
   "cell_type": "markdown",
   "metadata": {},
   "source": [
    "Now append the value \"spam\" to the list."
   ]
  },
  {
   "cell_type": "code",
   "execution_count": null,
   "metadata": {
    "collapsed": true
   },
   "outputs": [],
   "source": [
    "# write your code here"
   ]
  },
  {
   "cell_type": "markdown",
   "metadata": {},
   "source": [
    "Now remove the first item from the list."
   ]
  },
  {
   "cell_type": "code",
   "execution_count": null,
   "metadata": {
    "collapsed": true
   },
   "outputs": [],
   "source": [
    "# write your code here"
   ]
  },
  {
   "cell_type": "markdown",
   "metadata": {},
   "source": [
    "Using the multiplication notation for lists, add the string \"spam\" a further 12 times to the list."
   ]
  },
  {
   "cell_type": "code",
   "execution_count": null,
   "metadata": {
    "collapsed": true
   },
   "outputs": [],
   "source": []
  },
  {
   "cell_type": "markdown",
   "metadata": {},
   "source": [
    "As the list is clearly a menu, let's convert it to a string.\n",
    "\n",
    "Python strings have a very handy ``join`` function which joins all the values in an iterable by the string. To create a comma-separated list you can simply call\n",
    "\n",
    "```\n",
    "\", \".join(my_list)\n",
    "```\n",
    "To create a string where items are separated by a comma and a space. \n",
    "\n",
    "Please practice restraint in using this to create CSV files though."
   ]
  },
  {
   "cell_type": "markdown",
   "metadata": {},
   "source": []
  },
  {
   "cell_type": "markdown",
   "metadata": {},
   "source": [
    "### Slicing\n",
    "\n",
    "Slicing syntax is handy for operating on multidimensional arrays, especially matrices.\n",
    "\n",
    "Using ``range()`` create a list that has the numbers from 50 to 0 with a step of -2."
   ]
  },
  {
   "cell_type": "code",
   "execution_count": null,
   "metadata": {
    "collapsed": true
   },
   "outputs": [],
   "source": [
    "# your code here"
   ]
  },
  {
   "cell_type": "markdown",
   "metadata": {},
   "source": [
    "Using slicing syntax, select\n",
    "* the last 4 items from the list\n",
    "* the items from index 10 to index 13\n",
    "* the first 5 items from the list"
   ]
  },
  {
   "cell_type": "code",
   "execution_count": null,
   "metadata": {
    "collapsed": true
   },
   "outputs": [],
   "source": []
  },
  {
   "cell_type": "markdown",
   "metadata": {},
   "source": [
    "Read up on the [stride syntax](https://en.wikipedia.org/wiki/Array_slicing#1991:_Python) . Then using it select \n",
    "* every third value in the array\n",
    "* the values with an odd-numbered index in the array"
   ]
  },
  {
   "cell_type": "code",
   "execution_count": null,
   "metadata": {
    "collapsed": true
   },
   "outputs": [],
   "source": []
  },
  {
   "cell_type": "markdown",
   "metadata": {},
   "source": [
    "## Dictionaries\n",
    "\n",
    "Create a dictionary with the following keys and values\n",
    "\n",
    "| Key                      | Value              |\n",
    "|--------------------------|--------------------|\n",
    "| Stilton                  | Sorry.             |\n",
    "| Emmental                 | No.                |\n",
    "| Danish Blue              | No.                |\n",
    "| Venezuelan Beaver Cheese | Not today sir, no. |\n",
    "| Greek Feta               | Ah, not as such.   |\n",
    "\n",
    "(it's ok to Copy&Paste, this is not a typing exercise)"
   ]
  },
  {
   "cell_type": "code",
   "execution_count": null,
   "metadata": {
    "collapsed": true
   },
   "outputs": [],
   "source": []
  },
  {
   "cell_type": "markdown",
   "metadata": {},
   "source": [
    "Add Gouda with the value \"No.\"\n",
    "\n",
    "Remove the Venezuelan Beaver Cheese using the ``del``operator.\n",
    "\n",
    "Using the ``in`` operator check if \"Emmental\" is a key in the dictionary."
   ]
  },
  {
   "cell_type": "code",
   "execution_count": null,
   "metadata": {
    "collapsed": true
   },
   "outputs": [],
   "source": []
  },
  {
   "cell_type": "markdown",
   "metadata": {},
   "source": [
    "In addition to the []-syntax dictionaries also support a ``get()`` method, which also takes a default value that is returned if the key is not found in the dictionary.\n",
    "\n",
    "Use the get()-method to look for a cheese of your own choosing with the default value \"No.\" from the dictionary."
   ]
  },
  {
   "cell_type": "code",
   "execution_count": null,
   "metadata": {
    "collapsed": true
   },
   "outputs": [],
   "source": []
  },
  {
   "cell_type": "markdown",
   "metadata": {},
   "source": [
    "### Control structures\n",
    "\n",
    "Write a for-loop that iterates over the cheeses dictionary and prints out\n",
    "```\n",
    "cheese:availability\n",
    "```\n",
    "\n",
    "For each of the cheeses."
   ]
  },
  {
   "cell_type": "code",
   "execution_count": null,
   "metadata": {
    "collapsed": true
   },
   "outputs": [],
   "source": []
  },
  {
   "cell_type": "markdown",
   "metadata": {},
   "source": [
    "Implement the following pseudocode\n",
    "\n",
    "```\n",
    "while there are items in the list\n",
    "  pop an item\n",
    "  print the item\n",
    "```\n",
    "\n",
    "Remember that for if-else and while purposes an empty list evaluates as False!"
   ]
  },
  {
   "cell_type": "code",
   "execution_count": 14,
   "metadata": {
    "collapsed": false
   },
   "outputs": [],
   "source": [
    "list_ = [\"spam\"] * 3 + [\"eggs\"] + [\"spam\"] * 4 + [\"ham\"]"
   ]
  },
  {
   "cell_type": "markdown",
   "metadata": {},
   "source": [
    "Fibonacci numbers are a sequence of integers defined by the recurrence relation\n",
    "```\n",
    "\t\tF[n] = F[n-1] + F[n-2]\n",
    "```\n",
    "with the initial values F[0]=0, F[1]=1. Create a list of Fibonacci numbers F[n] < 100 using a while loop.\n"
   ]
  },
  {
   "cell_type": "markdown",
   "metadata": {},
   "source": [
    "## Modules and functions\n",
    "\n",
    "Create two functions, ``add`` and ``subtract`` that add and subtract respectively.\n",
    "\n",
    "Call both of them to test that they work correctly.\n"
   ]
  },
  {
   "cell_type": "code",
   "execution_count": 20,
   "metadata": {
    "collapsed": true
   },
   "outputs": [],
   "source": [
    "# your definitions here"
   ]
  },
  {
   "cell_type": "markdown",
   "metadata": {},
   "source": [
    "Now assign subtract to add"
   ]
  },
  {
   "cell_type": "code",
   "execution_count": 19,
   "metadata": {
    "collapsed": false
   },
   "outputs": [
    {
     "ename": "NameError",
     "evalue": "name 'subtract' is not defined",
     "output_type": "error",
     "traceback": [
      "\u001b[0;31m---------------------------------------------------------------------------\u001b[0m",
      "\u001b[0;31mNameError\u001b[0m                                 Traceback (most recent call last)",
      "\u001b[0;32m<ipython-input-19-63e39c08e8da>\u001b[0m in \u001b[0;36m<module>\u001b[0;34m()\u001b[0m\n\u001b[0;32m----> 1\u001b[0;31m \u001b[0madd\u001b[0m \u001b[0;34m=\u001b[0m \u001b[0msubtract\u001b[0m\u001b[0;34m\u001b[0m\u001b[0m\n\u001b[0m\u001b[1;32m      2\u001b[0m \u001b[0;31m# what happens?\u001b[0m\u001b[0;34m\u001b[0m\u001b[0;34m\u001b[0m\u001b[0m\n",
      "\u001b[0;31mNameError\u001b[0m: name 'subtract' is not defined"
     ]
    }
   ],
   "source": [
    "add = subtract\n",
    "# what happens?"
   ]
  },
  {
   "cell_type": "markdown",
   "metadata": {},
   "source": [
    "Write a function which computes the arithmetic mean of a list of numbers passed as a parameter.\n",
    "\n",
    "Hint: the built-ins ``len()`` and ``sum()`` may help you."
   ]
  },
  {
   "cell_type": "code",
   "execution_count": null,
   "metadata": {
    "collapsed": true
   },
   "outputs": [],
   "source": [
    "def mean(input):\n",
    "    pass # implement here"
   ]
  },
  {
   "cell_type": "markdown",
   "metadata": {},
   "source": [
    "Write a function which computes the arithmetic mean of all it's parameters. You will need to use the *args syntax for this."
   ]
  },
  {
   "cell_type": "code",
   "execution_count": null,
   "metadata": {
    "collapsed": true
   },
   "outputs": [],
   "source": [
    "def mean_params():"
   ]
  },
  {
   "cell_type": "markdown",
   "metadata": {},
   "source": [
    "Write a function that returns the median from a list of numbers provided as a single parameter. If the list is of even length, return the first of the two centermost items.\n",
    "\n",
    "Hint: you can sort the list using ``list.sort()``, after which it becomes an exercise in index arithmetic."
   ]
  },
  {
   "cell_type": "code",
   "execution_count": null,
   "metadata": {
    "collapsed": true
   },
   "outputs": [],
   "source": []
  },
  {
   "cell_type": "markdown",
   "metadata": {},
   "source": [
    "### Extra: lambda\n",
    "\n",
    "One of the paradigms Python supports are lambdas, even though they are not always widely used. Lambda syntax is as follows:\n",
    "\n",
    "```\n",
    "square = lambda x: x*x\n",
    "```\n",
    "Here the result of the lambda statement, a function object is assigned to the variable square. The statement ```lambda x```denotes that this lambda statement takes in one parameter, x. The ``: x*x``say that the return value of the lambda statement is x*x."
   ]
  },
  {
   "cell_type": "code",
   "execution_count": 21,
   "metadata": {
    "collapsed": false
   },
   "outputs": [
    {
     "data": {
      "text/plain": [
       "16"
      ]
     },
     "execution_count": 21,
     "metadata": {},
     "output_type": "execute_result"
    }
   ],
   "source": [
    "square = lambda x: x*x\n",
    "square(4)"
   ]
  },
  {
   "cell_type": "markdown",
   "metadata": {},
   "source": [
    "A typical use case for lambda might be in accessing members of an object.\n",
    "\n",
    "For instance the sort-function takes in a keyword parameter ``key``. It is trivial to do simple operations, like invert a value etc."
   ]
  },
  {
   "cell_type": "code",
   "execution_count": 23,
   "metadata": {
    "collapsed": false
   },
   "outputs": [
    {
     "data": {
      "text/plain": [
       "[('banana', 3), ('apple', 5), ('pear', 10)]"
      ]
     },
     "execution_count": 23,
     "metadata": {},
     "output_type": "execute_result"
    }
   ],
   "source": [
    "my_list = [\n",
    "    (\"apple\", 5),\n",
    "    (\"banana\", 3),\n",
    "    (\"pear\", 10)\n",
    "]\n",
    "my_list.sort(key= lambda x: x[1]) #sort by the number\n",
    "my_list"
   ]
  },
  {
   "cell_type": "markdown",
   "metadata": {},
   "source": [
    "Lambda has many other uses but those are left as a thought exercise.\n",
    "\n",
    "Convert the ```mean```-function you wrote so that it can take a key, like the sort function in list.\n",
    "\n",
    "The default key is best left as a function that returns it's parameter, i.e. \"lambda x: x\"."
   ]
  },
  {
   "cell_type": "code",
   "execution_count": 24,
   "metadata": {
    "collapsed": false
   },
   "outputs": [
    {
     "ename": "SyntaxError",
     "evalue": "invalid syntax (<ipython-input-24-e6219d6f9b95>, line 1)",
     "output_type": "error",
     "traceback": [
      "\u001b[0;36m  File \u001b[0;32m\"<ipython-input-24-e6219d6f9b95>\"\u001b[0;36m, line \u001b[0;32m1\u001b[0m\n\u001b[0;31m    def mean(...):\u001b[0m\n\u001b[0m               ^\u001b[0m\n\u001b[0;31mSyntaxError\u001b[0m\u001b[0;31m:\u001b[0m invalid syntax\n"
     ]
    }
   ],
   "source": [
    "def mean(...):\n",
    "    pass"
   ]
  },
  {
   "cell_type": "markdown",
   "metadata": {},
   "source": [
    "### Compound exercise: Kaprekar's constant\n",
    "\n",
    "Implement a function that computes Kaprekar's routine for a given value\n",
    "\n",
    "1. Take any four-digit number, using at least two different digits. (Leading zeros are allowed.)\n",
    "2. Arrange the digits in descending and then in ascending order to get two four-digit numbers, adding leading zeros if necessary.\n",
    "3. Subtract the smaller number from the bigger number.\n",
    "4. Go back to step 2.\n",
    "\n",
    "This routine will reach value 6174 in at most 7 iterations.\n",
    "\n",
    "Return the number of steps taken until you reach the value 6174. Return -1 if the input value is not valid, i.e. it has more than 4 digits or it doesn't have at least two different digits."
   ]
  },
  {
   "cell_type": "code",
   "execution_count": 16,
   "metadata": {
    "collapsed": true
   },
   "outputs": [],
   "source": [
    "def kaprekar_steps(integer):\n",
    "    # your implementation here\n",
    "    pass"
   ]
  },
  {
   "cell_type": "markdown",
   "metadata": {},
   "source": [
    "Now compute the kaprekar steps for each value from 1 to 9999, store the result if it is not -1 and compute the mean number of steps the algorithm takes. You can use the ``mean()``-function you just implemented."
   ]
  },
  {
   "cell_type": "markdown",
   "metadata": {},
   "source": [
    "### Compount exercise: mean of values from a file"
   ]
  },
  {
   "cell_type": "markdown",
   "metadata": {},
   "source": [
    "Do this exercise writing Python files.\n",
    "\n",
    "Create the following module structure\n",
    "```\n",
    "main.py\n",
    "stats/\n",
    "  __init__.py\n",
    "  simple.py\n",
    "```\n",
    "\n",
    "Copy the mean-function you wrote in the lambda exercise into simple.py."
   ]
  },
  {
   "cell_type": "markdown",
   "metadata": {},
   "source": [
    "Now, write the following into main.py.\n",
    "\n",
    "```\n",
    "import sys\n",
    "\n",
    "def main():\n",
    "    print(sys.argv)\n",
    "   \n",
    "if __name__ == \"__main__\":\n",
    "    main()\n",
    "```\n",
    "\n",
    "Now you can run the script with\n",
    "```\n",
    "$ python3 main.py\n",
    "```\n",
    "\n",
    "Experiment to find out what sys.argv holds.\n"
   ]
  },
  {
   "cell_type": "markdown",
   "metadata": {},
   "source": [
    "Next, create a function which reads in a CSV file using csv.DictReader and returns a list of dicts.\n",
    "\n",
    "Place this in another module, ``util.py`` next to simple.py."
   ]
  },
  {
   "cell_type": "markdown",
   "metadata": {},
   "source": [
    "Modify main.py so that it takes in two parameters:\n",
    "* a filename (of a csv file)\n",
    "* the name of a column in the CSV file.\n",
    "\n",
    "Import helper functions from ``stats.simple`` and ``stats.util`` so that the file from the first command line parameter is opened and read and the mean of the named column is computed.\n",
    "\n",
    "*This exercise may seem a bit complex. It is intended to give an example of how to structure a larger Python program.*"
   ]
  },
  {
   "cell_type": "markdown",
   "metadata": {},
   "source": [
    "## Objects\n",
    "\n",
    "Create a class called element for storing the following data\n",
    "* name\n",
    "* symbol\n",
    "* atomic number\n",
    "* atomic weight\n",
    "\n",
    "You can use the following as example data.\n",
    "\n",
    "| Element  | symbol | atomic number | atomic weight |\n",
    "|----------|--------|---------------|---------------|\n",
    "| Hydrogen | H      | 1             | 1.01          |\n",
    "| Iron     | Fe     | 26            | 55.85         |\n",
    "| Silver   | Ag     | 47            | 107.87        |"
   ]
  },
  {
   "cell_type": "code",
   "execution_count": null,
   "metadata": {
    "collapsed": true
   },
   "outputs": [],
   "source": []
  },
  {
   "cell_type": "markdown",
   "metadata": {},
   "source": [
    "Now create a new class that the Element class, a SortableElement. It should implement the \\_\\_lt\\_\\_ magic function described [here](https://docs.python.org/3.5/reference/datamodel.html#object.__lt__).\n",
    "\n",
    "Make a list of elements and sort it using ``list.sort()`` to try out your list."
   ]
  },
  {
   "cell_type": "code",
   "execution_count": null,
   "metadata": {
    "collapsed": true
   },
   "outputs": [],
   "source": []
  }
 ],
 "metadata": {
  "kernelspec": {
   "display_name": "Python 3",
   "language": "python",
   "name": "python3"
  },
  "language_info": {
   "codemirror_mode": {
    "name": "ipython",
    "version": 3
   },
   "file_extension": ".py",
   "mimetype": "text/x-python",
   "name": "python",
   "nbconvert_exporter": "python",
   "pygments_lexer": "ipython3",
   "version": "3.5.2"
  }
 },
 "nbformat": 4,
 "nbformat_minor": 2
}
