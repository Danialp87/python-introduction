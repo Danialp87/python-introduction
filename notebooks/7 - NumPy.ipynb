{
 "cells": [
  {
   "cell_type": "markdown",
   "metadata": {},
   "source": [
    "# NumPy\n",
    "[NumPy](www.numpy.org) is the fundamental package for scientific computing with Python. The main additions to the standard Python are\n",
    "\n",
    " * New datatype, NumPy **array**\n",
    "   * static, multidimensional\n",
    " * Fast processing of arrays\n",
    " * Tools for linear algebra, random numbers, ...\n",
    " \n",
    "## Numpy array\n",
    "The NumPy array is static, which means that\n",
    "\n",
    " * All elements have the same type, i.e. contrary to Python lists one cannot have both e.g. integer numbers and strings as elements\n",
    " * The size of the array is fixed at the time of creation, so elements cannot be added or removed\n",
    " \n",
    "Array can have arbitrary number of dimensions, and even though the size of the array is fixed, the shape can be changed, i.e 2x2 matrix can be changed into 4 element vector. It is possible to combine, split, and resize arrays, but a new array is then always created.\n",
    "\n",
    "The picture below illustrates the differences between NumPy arrays and Python list. As the NumPy array is (normally) contiguous in memory, the processing is much faster, and the dynamic nature of list adds also lots of overhead.\n",
    "\n",
    "![Python list vs. NumPy array](../images/list_vs_array.png)\n",
    "\n",
    "First thing when starting to work with NumPy, is to import the package. The package is commonly imported as **np**"
   ]
  },
  {
   "cell_type": "code",
   "execution_count": null,
   "metadata": {
    "collapsed": true
   },
   "outputs": [],
   "source": [
    "import numpy as np"
   ]
  },
  {
   "cell_type": "markdown",
   "metadata": {},
   "source": [
    "## Creating NumPy arrays\n",
    "### From a list (or tuple):"
   ]
  },
  {
   "cell_type": "code",
   "execution_count": null,
   "metadata": {
    "collapsed": false
   },
   "outputs": [],
   "source": [
    "a = np.array((1, 2, 3, 4))\n",
    "print(a)\n",
    "print(a.dtype)\n",
    "print(a.size)"
   ]
  },
  {
   "cell_type": "code",
   "execution_count": null,
   "metadata": {
    "collapsed": false
   },
   "outputs": [],
   "source": [
    "a = np.array((1,2,3,4), dtype=float) # Type can be explicitly specified\n",
    "print(a)\n",
    "print(a.dtype)\n",
    "print(a.size)"
   ]
  },
  {
   "cell_type": "markdown",
   "metadata": {},
   "source": [
    "Multidimensional lists (or tuples) produce multidimensional arrays"
   ]
  },
  {
   "cell_type": "code",
   "execution_count": null,
   "metadata": {
    "collapsed": false
   },
   "outputs": [],
   "source": [
    "my_list = [[1,2,3], [4,5,6]]\n",
    "a = np.array(my_list)\n",
    "print(a)\n",
    "print(a.size)\n",
    "print(a.shape)"
   ]
  },
  {
   "cell_type": "markdown",
   "metadata": {},
   "source": [
    "### Evenly spaced values"
   ]
  },
  {
   "cell_type": "code",
   "execution_count": null,
   "metadata": {
    "collapsed": false
   },
   "outputs": [],
   "source": [
    "a = np.arange(6)  # half open interval up to 6\n",
    "print(a)\n",
    "a = np.arange(0.1, 1, 0.2) # half open interval with start, stop, step\n",
    "print(a)\n",
    "b = np.linspace(-4.5, 4.5, 5) # specified number of samples within closed interval\n",
    "print(b)"
   ]
  },
  {
   "cell_type": "markdown",
   "metadata": {},
   "source": [
    "### Specific sized arrays"
   ]
  },
  {
   "cell_type": "code",
   "execution_count": null,
   "metadata": {
    "collapsed": true
   },
   "outputs": [],
   "source": [
    "mat = np.empty((2, 2, 2), float)  # uninitialized 2x2x2 array\n",
    "mat = np.zeros((3,3), int)  # initialized to zeros\n",
    "mat = np.ones((2,3), complex) #initialized to ones"
   ]
  },
  {
   "cell_type": "markdown",
   "metadata": {},
   "source": [
    "## Indexing and slicing arrays\n",
    "Indexing is similar to lists, with different dimensions separated by commas"
   ]
  },
  {
   "cell_type": "code",
   "execution_count": null,
   "metadata": {
    "collapsed": false
   },
   "outputs": [],
   "source": [
    "a = np.arange(6)\n",
    "print(a[2])\n",
    "print(a[-2])\n",
    "mat = np.array([[1, 2, 3], [4, 5, 6]])\n",
    "print(mat)\n",
    "print(mat[0,2])\n",
    "print(mat[-1,-2])"
   ]
  },
  {
   "cell_type": "markdown",
   "metadata": {},
   "source": [
    "Contrary to lists, slicing is possible over all dimensions"
   ]
  },
  {
   "cell_type": "code",
   "execution_count": null,
   "metadata": {
    "collapsed": false
   },
   "outputs": [],
   "source": [
    "mat = np.array([[1, 2, 3, 4], [5, 6, 7, 8]])\n",
    "print(mat[1, 1:3])\n",
    "mat = np.zeros((4,4))\n",
    "mat[1:-1,1:-1] = 2\n",
    "print(mat)"
   ]
  },
  {
   "cell_type": "markdown",
   "metadata": {},
   "source": [
    "## Views and copies of arrays\n",
    "As with all mutable Python objects, simple assignment creates a **reference** to array. If **a** and **b** are references to same array, changing contents of **b** changes also contents of **a**. NumPy arrays have a **copy** method for actual copying of array"
   ]
  },
  {
   "cell_type": "code",
   "execution_count": null,
   "metadata": {
    "collapsed": false
   },
   "outputs": [],
   "source": [
    "a = np.arange(6)\n",
    "print(a)\n",
    "b = a  # b is a reference, changing values in b changes also a\n",
    "b[2] = -3\n",
    "print(a)\n",
    "b = a.copy() # b is copy, changing b does not affect a\n",
    "b[0] = 66\n",
    "print(b)\n",
    "print(a)"
   ]
  },
  {
   "cell_type": "markdown",
   "metadata": {},
   "source": [
    "Slicing creates a view to the array, and modifying the view changes corresponding original contents"
   ]
  },
  {
   "cell_type": "code",
   "execution_count": null,
   "metadata": {
    "collapsed": false
   },
   "outputs": [],
   "source": [
    "c = a[1:4]\n",
    "print(c)\n",
    "c[-1] = 47\n",
    "print(a)"
   ]
  },
  {
   "cell_type": "markdown",
   "metadata": {},
   "source": [
    "## Array operations\n",
    "Most arithmetic operations for NumPy arrays are done elementwise. Note for Matlab users! Multiplication is done elementwise."
   ]
  },
  {
   "cell_type": "code",
   "execution_count": 1,
   "metadata": {
    "collapsed": false
   },
   "outputs": [
    {
     "name": "stdout",
     "output_type": "stream",
     "text": [
      "[ 2.  4.  6.]\n",
      "[ 3.  4.  5.]\n",
      "[ 2.  4.  6.]\n",
      "[ 1.  4.  9.]\n"
     ]
    }
   ],
   "source": [
    "a = np.array([1.0, 2.0, 3.0])\n",
    "b = 2.0\n",
    "print(b * a)\n",
    "print(b + a)\n",
    "print(a + a)\n",
    "print(a * a)"
   ]
  },
  {
   "cell_type": "markdown",
   "metadata": {},
   "source": [
    "NumPy has special functions which can work with the array arguments (sin, cos, exp, sqrt, log, ...)"
   ]
  },
  {
   "cell_type": "code",
   "execution_count": 2,
   "metadata": {
    "collapsed": true
   },
   "outputs": [],
   "source": [
    "x = np.linspace(-np.pi, np.pi, 5)\n",
    "y = np.sin(x)"
   ]
  },
  {
   "cell_type": "markdown",
   "metadata": {},
   "source": [
    "### Vectorized operations\n",
    "For loops and indexing in Python are slow. If the corresponding operation can be written in terms of full (or partial) arrays, operation can be speeded up significantly."
   ]
  },
  {
   "cell_type": "markdown",
   "metadata": {},
   "source": [
    "Example: calculating the difference between successive array elements"
   ]
  },
  {
   "cell_type": "code",
   "execution_count": 8,
   "metadata": {
    "collapsed": true
   },
   "outputs": [],
   "source": [
    "N = 1000\n",
    "a = np.arange(N)\n",
    "dif = np.zeros(N-1, a.dtype)"
   ]
  },
  {
   "cell_type": "code",
   "execution_count": 16,
   "metadata": {
    "collapsed": false
   },
   "outputs": [
    {
     "name": "stdout",
     "output_type": "stream",
     "text": [
      "1000 loops, best of 3: 449 µs per loop\n"
     ]
    }
   ],
   "source": [
    "%%timeit   #timeit magic allows easy timing for the execution of an cell\n",
    "# brute force with for loop\n",
    "for i in range(1, N):\n",
    "    dif[i-1] = a[i] - a[i-1]"
   ]
  },
  {
   "cell_type": "code",
   "execution_count": 10,
   "metadata": {
    "collapsed": false
   },
   "outputs": [
    {
     "name": "stdout",
     "output_type": "stream",
     "text": [
      "The slowest run took 17.79 times longer than the fastest. This could mean that an intermediate result is being cached.\n",
      "100000 loops, best of 3: 1.85 µs per loop\n"
     ]
    }
   ],
   "source": [
    "%%timeit\n",
    "# vectorized operation\n",
    "dif = a[1:] - a[:-1]"
   ]
  },
  {
   "cell_type": "markdown",
   "metadata": {},
   "source": [
    "## Linear algebra\n",
    "NumPy contains linear algebra operations for matrix and vector products, eigenproblems and linear systems. Typically, NumPy is built against optimized BLAS libraries which means that these operations are very efficient (much faster than naive implementation e.g. with C or Fortran)"
   ]
  },
  {
   "cell_type": "code",
   "execution_count": 15,
   "metadata": {
    "collapsed": false
   },
   "outputs": [
    {
     "name": "stdout",
     "output_type": "stream",
     "text": [
      "[ 1.  2.]\n"
     ]
    }
   ],
   "source": [
    "A = np.array(((2, 1), (1, 3)))\n",
    "B = np.array(((-2, 4.2), (4.2, 6)))\n",
    "C = np.dot(A, B) # matrix-matrix product\n",
    "w, v = np.linalg.eig(A) # eigenvalues in w, eigenvectors in v\n",
    "b = np.array((1, 2))\n",
    "x = np.linalg.solve(C, b) # Solve Cx = b\n",
    "print(np.dot(C, x)) # np.dot calculates also matrix-vector and vector-vector products"
   ]
  },
  {
   "cell_type": "markdown",
   "metadata": {},
   "source": [
    "# Simple plotting with matplotlib\n",
    "[matplotlib](www.matplotlib.org) is powerful 2D plotting library for Python. matplotlib can produce publication quality figures in various hardcopy formats. matplotlib can be used in scripts and in interactive shells, as well as in notebooks. matplotlib tries to make easy things easy and hard things possible. You can generate plots, histograms, power spectra, bar charts, errorcharts, scatterplots, etc, with just a few lines of code. Good way to learn about matplotlib's possibilities is to check the [screenshots](http://matplotlib.org/users/screenshots.html) and [gallery](http://matplotlib.org/gallery.html) which provide also the code to produce the figures.\n",
    "\n",
    "For simple plotting, one commonly imports matplotlib.pyplot package"
   ]
  },
  {
   "cell_type": "code",
   "execution_count": 15,
   "metadata": {
    "collapsed": true
   },
   "outputs": [],
   "source": [
    "import matplotlib.pyplot as plt"
   ]
  },
  {
   "cell_type": "markdown",
   "metadata": {},
   "source": [
    "For showing fictures in the notebook, one can invoke the following magic"
   ]
  },
  {
   "cell_type": "code",
   "execution_count": 16,
   "metadata": {
    "collapsed": true
   },
   "outputs": [],
   "source": [
    "%matplotlib inline"
   ]
  },
  {
   "cell_type": "markdown",
   "metadata": {},
   "source": [
    "## Simple line plots of NumPy arrays"
   ]
  },
  {
   "cell_type": "code",
   "execution_count": 19,
   "metadata": {
    "collapsed": false
   },
   "outputs": [
    {
     "data": {
      "text/plain": [
       "<matplotlib.text.Text at 0x7f5bcd5f17f0>"
      ]
     },
     "execution_count": 19,
     "metadata": {},
     "output_type": "execute_result"
    },
    {
     "data": {
      "image/png": "[encoded data removed]",
      "text/plain": [
       "<matplotlib.figure.Figure at 0x7f5bd879f390>"
      ]
     },
     "metadata": {},
     "output_type": "display_data"
    }
   ],
   "source": [
    "x = np.linspace(-np.pi, np.pi, 100)\n",
    "y = np.sin(x)\n",
    "plt.plot(x, y)\n",
    "plt.title('A simple plot')\n",
    "plt.xlabel('time (s)')"
   ]
  },
  {
   "cell_type": "markdown",
   "metadata": {},
   "source": [
    "## Multiple subplots"
   ]
  },
  {
   "cell_type": "code",
   "execution_count": 24,
   "metadata": {
    "collapsed": false
   },
   "outputs": [
    {
     "data": {
      "text/plain": [
       "<matplotlib.text.Text at 0x7f5bcd0cebe0>"
      ]
     },
     "execution_count": 24,
     "metadata": {},
     "output_type": "execute_result"
    },
    {
     "data": {
      "image/png": "[encoded data removed]",
      "text/plain": [
       "<matplotlib.figure.Figure at 0x7f5bcd1536a0>"
      ]
     },
     "metadata": {},
     "output_type": "display_data"
    }
   ],
   "source": [
    "x = np.linspace(-np.pi, np.pi, 100)\n",
    "y1 = np.sin(x)\n",
    "y2 = np.cos(x)\n",
    "plt.subplot(211) #create 2x1 plot, use 1st\n",
    "plt.plot(x, y1, linewidth=2)\n",
    "plt.ylabel('sin')\n",
    "plt.subplot(212) #use 2nd\n",
    "plt.plot(x, y2, '--or') # use dashed line, 'o' markers and red color\n",
    "plt.ylabel('cos', fontsize=16)\n",
    "plt.xlabel(r'$\\theta$') # when using Latex, string has to be so called raw string (r'my string')"
   ]
  },
  {
   "cell_type": "markdown",
   "metadata": {
    "collapsed": true
   },
   "source": [
    "## Exercises"
   ]
  },
  {
   "cell_type": "markdown",
   "metadata": {},
   "source": [
    "Investigate the behavior of the statements below by looking\n",
    "at the values of the arrays a and b after assignments:\n",
    "```\n",
    "a = np.arange(5)\n",
    "b = a\n",
    "b[2] = -1\n",
    "b = a[:]\n",
    "b[1] = -1\n",
    "b = a.copy()\n",
    "b[0] = -1\n",
    "```"
   ]
  },
  {
   "cell_type": "code",
   "execution_count": null,
   "metadata": {
    "collapsed": true
   },
   "outputs": [],
   "source": []
  },
  {
   "cell_type": "markdown",
   "metadata": {},
   "source": [
    "Generate a 1D NumPy array containing numbers from -2 to 2\n",
    "in increments of 0.2. Use optional start and step arguments\n",
    "of **np.arange()** function."
   ]
  },
  {
   "cell_type": "code",
   "execution_count": 1,
   "metadata": {
    "collapsed": false
   },
   "outputs": [
    {
     "name": "stdout",
     "output_type": "stream",
     "text": [
      "[ -2.00000000e+00  -1.80000000e+00  -1.60000000e+00  -1.40000000e+00\n",
      "  -1.20000000e+00  -1.00000000e+00  -8.00000000e-01  -6.00000000e-01\n",
      "  -4.00000000e-01  -2.00000000e-01  -4.44089210e-16   2.00000000e-01\n",
      "   4.00000000e-01   6.00000000e-01   8.00000000e-01   1.00000000e+00\n",
      "   1.20000000e+00   1.40000000e+00   1.60000000e+00   1.80000000e+00]\n"
     ]
    }
   ],
   "source": [
    "a = np.arange(-2, 2, 0.2)\n",
    "print(a)"
   ]
  },
  {
   "cell_type": "markdown",
   "metadata": {},
   "source": [
    "Generate another 1D NumPy array containing 11 equally\n",
    "spaced values between 0.5 and 1.5. Extract every second\n",
    "element of the array"
   ]
  },
  {
   "cell_type": "code",
   "execution_count": null,
   "metadata": {
    "collapsed": true
   },
   "outputs": [],
   "source": [
    "a = np.linspace(0.5, 1.5, 11)\n",
    "print(a[::2])"
   ]
  },
  {
   "cell_type": "markdown",
   "metadata": {},
   "source": [
    "Create a 4x4 array with arbitrary values."
   ]
  },
  {
   "cell_type": "code",
   "execution_count": 6,
   "metadata": {
    "collapsed": false
   },
   "outputs": [
    {
     "name": "stdout",
     "output_type": "stream",
     "text": [
      "[[ 0.36116993  0.80643621  0.54713737  0.03586701]\n",
      " [ 0.71914881  0.35213237  0.76295359  0.80786137]\n",
      " [ 0.79613374  0.7223311   0.93131402  0.8891921 ]\n",
      " [ 0.81252532  0.65745696  0.94049188  0.37031642]]\n"
     ]
    }
   ],
   "source": [
    "a = np.random.random((4,4))\n",
    "print(a)"
   ]
  },
  {
   "cell_type": "markdown",
   "metadata": {},
   "source": [
    "Extract every element from the second row"
   ]
  },
  {
   "cell_type": "code",
   "execution_count": 7,
   "metadata": {
    "collapsed": false
   },
   "outputs": [
    {
     "name": "stdout",
     "output_type": "stream",
     "text": [
      "[ 0.79613374  0.7223311   0.93131402  0.8891921 ]\n"
     ]
    }
   ],
   "source": [
    "print(a[2,:])"
   ]
  },
  {
   "cell_type": "markdown",
   "metadata": {},
   "source": [
    "Extract every element from the third column"
   ]
  },
  {
   "cell_type": "code",
   "execution_count": 8,
   "metadata": {
    "collapsed": false
   },
   "outputs": [
    {
     "name": "stdout",
     "output_type": "stream",
     "text": [
      "[ 0.03586701  0.80786137  0.8891921   0.37031642]\n"
     ]
    }
   ],
   "source": [
    "print(a[:, 3])"
   ]
  },
  {
   "cell_type": "markdown",
   "metadata": {},
   "source": [
    "Assign a value of 0.21 to upper left 2x2 subarray."
   ]
  },
  {
   "cell_type": "code",
   "execution_count": 9,
   "metadata": {
    "collapsed": false
   },
   "outputs": [
    {
     "name": "stdout",
     "output_type": "stream",
     "text": [
      "[[ 0.2         0.2         0.54713737  0.03586701]\n",
      " [ 0.2         0.2         0.76295359  0.80786137]\n",
      " [ 0.79613374  0.7223311   0.93131402  0.8891921 ]\n",
      " [ 0.81252532  0.65745696  0.94049188  0.37031642]]\n"
     ]
    }
   ],
   "source": [
    "a[:2,:2] = 0.2\n",
    "print(a)"
   ]
  },
  {
   "cell_type": "markdown",
   "metadata": {},
   "source": [
    "A simple method for evaluating integral of function **f(x)** numerically is by\n",
    "the middle Riemann sum\n",
    "$$S = \\sum_{i=1}^n f(x'_i) \\Delta x$$\n",
    "with $x'_i = (x_i + x_{i+1}) / 2$ and $\\Delta x$ the spacing between the two points $x_i$ and $x_{i+1}$. Construct 1D Numpy array containing the values of $x_i$ in the interval $[0, \\pi/2]$ with a spacing $\\Delta x = 0.1$. Calculate the Rieman sum of **sin** function, trying to avoid **for** loops. How much does the value differ from 1.0? Investigate also how the\n",
    "results changes with the choice of $\\Delta x$"
   ]
  },
  {
   "cell_type": "code",
   "execution_count": 11,
   "metadata": {
    "collapsed": false
   },
   "outputs": [
    {
     "name": "stdout",
     "output_type": "stream",
     "text": [
      "Riemann sum: 0.999208\n"
     ]
    }
   ],
   "source": [
    "dx = 0.01\n",
    "xi = np.arange(0, np.pi/2, dx)\n",
    "\n",
    "xip = (xi[1:] + xi[:-1]) / 2.\n",
    "s = np.sum(np.sin(xip) * dx)\n",
    "print(\"Riemann sum: {0:f}\".format(s))"
   ]
  },
  {
   "cell_type": "markdown",
   "metadata": {},
   "source": [
    "Plot to the same graph **sin** and **cos** functions in the interval $[-\\pi/2, \\pi/2]$. Use $\\theta$ as x-label and insert also legends."
   ]
  },
  {
   "cell_type": "code",
   "execution_count": null,
   "metadata": {
    "collapsed": true
   },
   "outputs": [],
   "source": []
  },
  {
   "cell_type": "markdown",
   "metadata": {},
   "source": [
    "### Bonus exercise: Game of Life\n",
    "Game of life is a cellular automaton devised by John Conway\n",
    "in 70's: http://en.wikipedia.org/wiki/Conway's_Game_of_Life\n",
    "\n",
    "The game consists of two dimensional orthogonal grid of\n",
    "cells. Cells are in two possible states, alive or dead. Each cell\n",
    "interacts with its eight neighbours, and at each time step the\n",
    "following transitions occur:\n",
    "* Any live cell with fewer than two live neighbours dies, as if\n",
    "caused by underpopulation\n",
    "* Any live cell with more than three live neighbours dies, as if\n",
    "by overcrowding\n",
    "* Any live cell with two or three live neighbours lives on to\n",
    "the next generation\n",
    "* Any dead cell with exactly three live neighbours becomes a\n",
    "live cell\n",
    "\n",
    "The initial pattern constitutes the seed of the system, and\n",
    "the system is left to evolve according to rules. Deads and\n",
    "births happen simultaneously.\n",
    "\n",
    "Implement the Game of Life using Numpy, and visualize the\n",
    "evolution with Matplotlib's **imshow**. Try first 32x32\n",
    "square grid and cross-shaped initial pattern:\n",
    "![Initial pattern for Game of Life](../images/gol.png)\n",
    "Try also other grids and initial patterns (e.g. random\n",
    "pattern). Try to avoid **for** loops."
   ]
  },
  {
   "cell_type": "code",
   "execution_count": 21,
   "metadata": {
    "collapsed": false
   },
   "outputs": [
    {
     "name": "stderr",
     "output_type": "stream",
     "text": [
      "/usr/lib/python3.4/site-packages/ipykernel/__main__.py:25: DeprecationWarning: using a non-integer number instead of an integer will result in an error in the future\n",
      "/usr/lib/python3.4/site-packages/ipykernel/__main__.py:26: DeprecationWarning: using a non-integer number instead of an integer will result in an error in the future\n"
     ]
    },
    {
     "data": {
      "image/png": "[encoded data removed]",
      "text/plain": [
       "<matplotlib.figure.Figure at 0x7f88de5ca630>"
      ]
     },
     "metadata": {},
     "output_type": "display_data"
    }
   ],
   "source": [
    "def gol_update(board):\n",
    "    # number of neighbours that each square has\n",
    "    neighbours = np.zeros(board.shape)\n",
    "    neighbours[1:, 1:] += board[:-1, :-1]\n",
    "    neighbours[1:, :-1] += board[:-1, 1:]\n",
    "    neighbours[:-1, 1:] += board[1:, :-1]\n",
    "    neighbours[:-1, :-1] += board[1:, 1:]\n",
    "    neighbours[:-1, :] += board[1:, :]\n",
    "    neighbours[1:, :] += board[:-1, :]\n",
    "    neighbours[:, :-1] += board[:, 1:]\n",
    "    neighbours[:, 1:] += board[:, :-1]\n",
    "\n",
    "    new_board = np.where(neighbours < 2, 0, board)\n",
    "    new_board = np.where(neighbours > 3, 0, new_board)\n",
    "    new_board = np.where(neighbours == 3, 1, new_board)\n",
    "\n",
    "    # Periodic boundaries\n",
    "    new_board[0,:] = new_board[-1,:]\n",
    "    new_board[:,0] = new_board[:,-1]\n",
    "    return new_board\n",
    "\n",
    "# Cross pattern\n",
    "size = 32\n",
    "board = np.zeros((size, size), int)\n",
    "board[size/2,:] = 1\n",
    "board[:,size/2] = 1\n",
    "plt.imshow(board, cmap = plt.cm.prism)\n",
    "for iter in range(100):\n",
    "    board = gol_update(board)\n",
    "    plt.imshow(board, cmap = plt.cm.prism)\n",
    "    plt.title('Generation {0}'.format(iter))\n",
    "\n"
   ]
  }
 ],
 "metadata": {
  "kernelspec": {
   "display_name": "Python 3",
   "language": "python",
   "name": "python3"
  },
  "language_info": {
   "codemirror_mode": {
    "name": "ipython",
    "version": 3
   },
   "file_extension": ".py",
   "mimetype": "text/x-python",
   "name": "python",
   "nbconvert_exporter": "python",
   "pygments_lexer": "ipython3",
   "version": "3.4.5"
  }
 },
 "nbformat": 4,
 "nbformat_minor": 2
}
