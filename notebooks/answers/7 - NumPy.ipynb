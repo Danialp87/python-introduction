{
 "cells": [
  {
   "cell_type": "markdown",
   "metadata": {
    "collapsed": true
   },
   "source": [
    "# Exercises"
   ]
  },
  {
   "cell_type": "markdown",
   "metadata": {},
   "source": [
    "Investigate the behavior of the statements below by looking\n",
    "at the values of the arrays a and b after assignments:\n",
    "```\n",
    "a = np.arange(5)\n",
    "b = a\n",
    "b[2] = -1\n",
    "b = a[:]\n",
    "b[1] = -1\n",
    "b = a.copy()\n",
    "b[0] = -1\n",
    "```"
   ]
  },
  {
   "cell_type": "code",
   "execution_count": null,
   "metadata": {
    "collapsed": true
   },
   "outputs": [],
   "source": []
  },
  {
   "cell_type": "markdown",
   "metadata": {},
   "source": [
    "Generate a 1D NumPy array containing numbers from -2 to 2\n",
    "in increments of 0.2. Use optional start and step arguments\n",
    "of **np.arange()** function."
   ]
  },
  {
   "cell_type": "code",
   "execution_count": 1,
   "metadata": {},
   "outputs": [
    {
     "name": "stdout",
     "output_type": "stream",
     "text": [
      "[ -2.00000000e+00  -1.80000000e+00  -1.60000000e+00  -1.40000000e+00\n",
      "  -1.20000000e+00  -1.00000000e+00  -8.00000000e-01  -6.00000000e-01\n",
      "  -4.00000000e-01  -2.00000000e-01  -4.44089210e-16   2.00000000e-01\n",
      "   4.00000000e-01   6.00000000e-01   8.00000000e-01   1.00000000e+00\n",
      "   1.20000000e+00   1.40000000e+00   1.60000000e+00   1.80000000e+00]\n"
     ]
    }
   ],
   "source": [
    "a = np.arange(-2, 2, 0.2)\n",
    "print(a)"
   ]
  },
  {
   "cell_type": "markdown",
   "metadata": {},
   "source": [
    "Generate another 1D NumPy array containing 11 equally\n",
    "spaced values between 0.5 and 1.5. Extract every second\n",
    "element of the array"
   ]
  },
  {
   "cell_type": "code",
   "execution_count": null,
   "metadata": {
    "collapsed": true
   },
   "outputs": [],
   "source": [
    "a = np.linspace(0.5, 1.5, 11)\n",
    "print(a[::2])"
   ]
  },
  {
   "cell_type": "markdown",
   "metadata": {},
   "source": [
    "Create a 4x4 array with arbitrary values."
   ]
  },
  {
   "cell_type": "code",
   "execution_count": 6,
   "metadata": {},
   "outputs": [
    {
     "name": "stdout",
     "output_type": "stream",
     "text": [
      "[[ 0.36116993  0.80643621  0.54713737  0.03586701]\n",
      " [ 0.71914881  0.35213237  0.76295359  0.80786137]\n",
      " [ 0.79613374  0.7223311   0.93131402  0.8891921 ]\n",
      " [ 0.81252532  0.65745696  0.94049188  0.37031642]]\n"
     ]
    }
   ],
   "source": [
    "a = np.random.random((4,4))\n",
    "print(a)"
   ]
  },
  {
   "cell_type": "markdown",
   "metadata": {},
   "source": [
    "Extract every element from the second row"
   ]
  },
  {
   "cell_type": "code",
   "execution_count": 7,
   "metadata": {},
   "outputs": [
    {
     "name": "stdout",
     "output_type": "stream",
     "text": [
      "[ 0.79613374  0.7223311   0.93131402  0.8891921 ]\n"
     ]
    }
   ],
   "source": [
    "print(a[2,:])"
   ]
  },
  {
   "cell_type": "markdown",
   "metadata": {},
   "source": [
    "Extract every element from the third column"
   ]
  },
  {
   "cell_type": "code",
   "execution_count": 8,
   "metadata": {},
   "outputs": [
    {
     "name": "stdout",
     "output_type": "stream",
     "text": [
      "[ 0.03586701  0.80786137  0.8891921   0.37031642]\n"
     ]
    }
   ],
   "source": [
    "print(a[:, 3])"
   ]
  },
  {
   "cell_type": "markdown",
   "metadata": {},
   "source": [
    "Assign a value of 0.21 to upper left 2x2 subarray."
   ]
  },
  {
   "cell_type": "code",
   "execution_count": 9,
   "metadata": {},
   "outputs": [
    {
     "name": "stdout",
     "output_type": "stream",
     "text": [
      "[[ 0.2         0.2         0.54713737  0.03586701]\n",
      " [ 0.2         0.2         0.76295359  0.80786137]\n",
      " [ 0.79613374  0.7223311   0.93131402  0.8891921 ]\n",
      " [ 0.81252532  0.65745696  0.94049188  0.37031642]]\n"
     ]
    }
   ],
   "source": [
    "a[:2,:2] = 0.2\n",
    "print(a)"
   ]
  },
  {
   "cell_type": "markdown",
   "metadata": {},
   "source": [
    "A simple method for evaluating integral of function **f(x)** numerically is by\n",
    "the middle Riemann sum\n",
    "$$S = \\sum_{i=1}^n f(x'_i) \\Delta x$$\n",
    "with $x'_i = (x_i + x_{i+1}) / 2$ and $\\Delta x$ the spacing between the two points $x_i$ and $x_{i+1}$. Construct 1D Numpy array containing the values of $x_i$ in the interval $[0, \\pi/2]$ with a spacing $\\Delta x = 0.1$. Calculate the Rieman sum of **sin** function, trying to avoid **for** loops. How much does the value differ from 1.0? Investigate also how the\n",
    "results changes with the choice of $\\Delta x$"
   ]
  },
  {
   "cell_type": "code",
   "execution_count": 11,
   "metadata": {},
   "outputs": [
    {
     "name": "stdout",
     "output_type": "stream",
     "text": [
      "Riemann sum: 0.999208\n"
     ]
    }
   ],
   "source": [
    "dx = 0.01\n",
    "xi = np.arange(0, np.pi/2, dx)\n",
    "\n",
    "xip = (xi[1:] + xi[:-1]) / 2.\n",
    "s = np.sum(np.sin(xip) * dx)\n",
    "print(\"Riemann sum: {0:f}\".format(s))"
   ]
  },
  {
   "cell_type": "markdown",
   "metadata": {},
   "source": [
    "Plot to the same graph **sin** and **cos** functions in the interval $[-\\pi/2, \\pi/2]$. Use $\\theta$ as x-label and insert also legends."
   ]
  },
  {
   "cell_type": "code",
   "execution_count": 8,
   "metadata": {},
   "outputs": [
    {
     "data": {
      "text/plain": [
       "<matplotlib.legend.Legend at 0x7f801317ca58>"
      ]
     },
     "execution_count": 8,
     "metadata": {},
     "output_type": "execute_result"
    },
    {
     "data": {
      "image/png": "[encoded data removed]",
      "text/plain": [
       "<matplotlib.figure.Figure at 0x7f8013addba8>"
      ]
     },
     "metadata": {},
     "output_type": "display_data"
    }
   ],
   "source": [
    "%matplotlib inline\n",
    "import matplotlib.pyplot as plt\n",
    "theta = np.linspace(-np.pi / 2, np.pi / 2, 50)\n",
    "plt.plot(theta, np.sin(theta), label='sin')\n",
    "plt.plot(theta, np.cos(theta), label='cos')\n",
    "plt.xlabel(r'$\\theta$')\n",
    "plt.legend()"
   ]
  },
  {
   "cell_type": "markdown",
   "metadata": {},
   "source": [
    "### Bonus exercise: Game of Life\n",
    "Game of life is a cellular automaton devised by John Conway\n",
    "in 70's: http://en.wikipedia.org/wiki/Conway's_Game_of_Life\n",
    "\n",
    "The game consists of two dimensional orthogonal grid of\n",
    "cells. Cells are in two possible states, alive or dead. Each cell\n",
    "interacts with its eight neighbours, and at each time step the\n",
    "following transitions occur:\n",
    "* Any live cell with fewer than two live neighbours dies, as if\n",
    "caused by underpopulation\n",
    "* Any live cell with more than three live neighbours dies, as if\n",
    "by overcrowding\n",
    "* Any live cell with two or three live neighbours lives on to\n",
    "the next generation\n",
    "* Any dead cell with exactly three live neighbours becomes a\n",
    "live cell\n",
    "\n",
    "The initial pattern constitutes the seed of the system, and\n",
    "the system is left to evolve according to rules. Deads and\n",
    "births happen simultaneously.\n",
    "\n",
    "Implement the Game of Life using Numpy, and visualize the\n",
    "evolution with Matplotlib's **imshow**. Try first 32x32\n",
    "square grid and cross-shaped initial pattern:\n",
    "![Initial pattern for Game of Life](../images/gol.png)\n",
    "Try also other grids and initial patterns (e.g. random\n",
    "pattern). Try to avoid **for** loops."
   ]
  },
  {
   "cell_type": "code",
   "execution_count": 21,
   "metadata": {},
   "outputs": [
    {
     "name": "stderr",
     "output_type": "stream",
     "text": [
      "/usr/lib/python3.4/site-packages/ipykernel/__main__.py:25: DeprecationWarning: using a non-integer number instead of an integer will result in an error in the future\n",
      "/usr/lib/python3.4/site-packages/ipykernel/__main__.py:26: DeprecationWarning: using a non-integer number instead of an integer will result in an error in the future\n"
     ]
    },
    {
     "data": {
      "image/png": "[encoded data removed]",
      "text/plain": [
       "<matplotlib.figure.Figure at 0x7f88de5ca630>"
      ]
     },
     "metadata": {},
     "output_type": "display_data"
    }
   ],
   "source": [
    "def gol_update(board):\n",
    "    # number of neighbours that each square has\n",
    "    neighbours = np.zeros(board.shape)\n",
    "    neighbours[1:, 1:] += board[:-1, :-1]\n",
    "    neighbours[1:, :-1] += board[:-1, 1:]\n",
    "    neighbours[:-1, 1:] += board[1:, :-1]\n",
    "    neighbours[:-1, :-1] += board[1:, 1:]\n",
    "    neighbours[:-1, :] += board[1:, :]\n",
    "    neighbours[1:, :] += board[:-1, :]\n",
    "    neighbours[:, :-1] += board[:, 1:]\n",
    "    neighbours[:, 1:] += board[:, :-1]\n",
    "\n",
    "    new_board = np.where(neighbours < 2, 0, board)\n",
    "    new_board = np.where(neighbours > 3, 0, new_board)\n",
    "    new_board = np.where(neighbours == 3, 1, new_board)\n",
    "\n",
    "    # Periodic boundaries\n",
    "    new_board[0,:] = new_board[-1,:]\n",
    "    new_board[:,0] = new_board[:,-1]\n",
    "    return new_board\n",
    "\n",
    "# Cross pattern\n",
    "size = 32\n",
    "board = np.zeros((size, size), int)\n",
    "board[size/2,:] = 1\n",
    "board[:,size/2] = 1\n",
    "plt.imshow(board, cmap = plt.cm.prism)\n",
    "for iter in range(100):\n",
    "    board = gol_update(board)\n",
    "    plt.imshow(board, cmap = plt.cm.prism)\n",
    "    plt.title('Generation {0}'.format(iter))\n",
    "\n"
   ]
  }
 ],
 "metadata": {
  "kernelspec": {
   "display_name": "Python 3",
   "language": "python",
   "name": "python3"
  },
  "language_info": {
   "codemirror_mode": {
    "name": "ipython",
    "version": 3
   },
   "file_extension": ".py",
   "mimetype": "text/x-python",
   "name": "python",
   "nbconvert_exporter": "python",
   "pygments_lexer": "ipython3",
   "version": "3.4.5"
  }
 },
 "nbformat": 4,
 "nbformat_minor": 2
}
