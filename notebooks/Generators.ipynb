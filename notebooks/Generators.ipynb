{
 "cells": [
  {
   "cell_type": "markdown",
   "metadata": {},
   "source": [
    "# Generators\n",
    "\n",
    "Consider the following code that computes the sum of squared numbers up to N."
   ]
  },
  {
   "cell_type": "code",
   "execution_count": 11,
   "metadata": {
    "collapsed": false
   },
   "outputs": [
    {
     "data": {
      "text/plain": [
       "2666666866666670000000"
      ]
     },
     "execution_count": 11,
     "metadata": {},
     "output_type": "execute_result"
    }
   ],
   "source": [
    "def squared_numbers(n):\n",
    "    return [x*x for x in range(n)]\n",
    "\n",
    "def sum_squares(n):\n",
    "    return sum(squared_numbers(n+1))\n",
    "\n",
    "sum_squares(20000000)"
   ]
  },
  {
   "cell_type": "markdown",
   "metadata": {},
   "source": [
    "The code works and is all great, but it has one flaw: it creates a list of all the numbers from 1 to N in memory. If N were large, we would use a lot of extra memory, which might lead to the system swapping or running out of memory. \n",
    "\n",
    "In this case it is not necessary to create the entire list in memory. The ```sum``` function iterates over it's input and only needs the cumulative sum and the next value at a time.\n",
    "\n",
    "The Python keyword ``yield``is used to achieve this. Using ``yield`` in a statement automatically makes that statement a generator expression. A generator expression can be iterated over like a list, but it only creates new values as they are needed."
   ]
  },
  {
   "cell_type": "code",
   "execution_count": 12,
   "metadata": {
    "collapsed": false
   },
   "outputs": [
    {
     "data": {
      "text/plain": [
       "2666666866666670000000"
      ]
     },
     "execution_count": 12,
     "metadata": {},
     "output_type": "execute_result"
    }
   ],
   "source": [
    "def squared_numbers_alternate(n):\n",
    "    for x in range(n):\n",
    "        yield x*x\n",
    "        \n",
    "def sum_squares_alternate(n):\n",
    "    return sum(squared_numbers_alternate(n+1))\n",
    "\n",
    "sum_squares(20000000)"
   ]
  },
  {
   "cell_type": "markdown",
   "metadata": {},
   "source": [
    "At this you may wonder, doesn't ``range()`` return a list? The short answer is no, but the details are complicated."
   ]
  },
  {
   "cell_type": "markdown",
   "metadata": {},
   "source": [
    "### Synthesis\n",
    "\n",
    "Python is often used to process text files, some of which may be quite large. Typically a single row in a text file isn't large, however. The following type of pattern permits one to cleanly read in a file much larger than what would fit memory one line at a time."
   ]
  },
  {
   "cell_type": "code",
   "execution_count": 14,
   "metadata": {
    "collapsed": false
   },
   "outputs": [],
   "source": [
    "def read_file_by_lines(filename):\n",
    "    with open(filename, \"r\") as fileobj :\n",
    "        for line in fileobj:\n",
    "            yield line\n",
    "        \n",
    "def process_file(input_, output_):\n",
    "    with open(output_, \"w\") as outfile:\n",
    "        for line in read_file_by_lines(input_):\n",
    "            outfile.write(line[::-1]) # odd syntax for reversing a file\n",
    "            \n",
    "process_file(\"notes.txt\", \"seton.txt\")"
   ]
  }
 ],
 "metadata": {
  "kernelspec": {
   "display_name": "Python 3",
   "language": "python",
   "name": "python3"
  },
  "language_info": {
   "codemirror_mode": {
    "name": "ipython",
    "version": 3
   },
   "file_extension": ".py",
   "mimetype": "text/x-python",
   "name": "python",
   "nbconvert_exporter": "python",
   "pygments_lexer": "ipython3",
   "version": "3.5.2"
  }
 },
 "nbformat": 4,
 "nbformat_minor": 2
}
